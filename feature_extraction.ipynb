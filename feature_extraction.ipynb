{
  "cells": [
    {
      "cell_type": "code",
      "execution_count": 2,
      "metadata": {
        "colab": {
          "base_uri": "https://localhost:8080/",
          "height": 0
        },
        "id": "m_IBKXc9E9U5",
        "outputId": "fe5636e2-67bb-4226-bf3a-0971ab9537cf"
      },
      "outputs": [
        {
          "name": "stdout",
          "output_type": "stream",
          "text": [
            "Mounted at /content/drive\n"
          ]
        }
      ],
      "source": [
        "from google.colab import drive\n",
        "drive.mount('/content/drive')"
      ]
    },
    {
      "cell_type": "code",
      "execution_count": null,
      "metadata": {
        "id": "wzi5-h9wJ41b"
      },
      "outputs": [],
      "source": [
        "!pip install mne\n",
        "!apt-get install octave\n",
        "!pip install oct2py\n",
        "%load_ext oct2py.ipython\n",
        "!git clone https://github.com/sccn/eeglab.git\n",
        "!git clone --recurse-submodules https://github.com/sccn/eeglab.git"
      ]
    },
    {
      "cell_type": "code",
      "execution_count": 4,
      "metadata": {
        "id": "2onqQm84Xl5M"
      },
      "outputs": [],
      "source": [
        "import numpy as np\n",
        "import pandas as pd\n",
        "import scipy\n",
        "from oct2py import octave\n",
        "import mne\n",
        "import h5py\n",
        "from tqdm import tqdm\n",
        "import os\n",
        "import pywt"
      ]
    },
    {
      "cell_type": "code",
      "execution_count": 5,
      "metadata": {
        "colab": {
          "base_uri": "https://localhost:8080/",
          "height": 0
        },
        "id": "cknw1t2uQdwO",
        "outputId": "805a57ef-618f-4b43-9992-6b65896557d8"
      },
      "outputs": [
        {
          "name": "stdout",
          "output_type": "stream",
          "text": [
            "\u001b[2K     \u001b[90m━━━━━━━━━━━━━━━━━━━━━━━━━━━━━━━━━━━━━━━\u001b[0m \u001b[32m612.1/612.1 kB\u001b[0m \u001b[31m4.9 MB/s\u001b[0m eta \u001b[36m0:00:00\u001b[0m\n",
            "\u001b[2K     \u001b[90m━━━━━━━━━━━━━━━━━━━━━━━━━━━━━━━━━━━━━━━━\u001b[0m \u001b[32m17.1/17.1 MB\u001b[0m \u001b[31m32.9 MB/s\u001b[0m eta \u001b[36m0:00:00\u001b[0m\n",
            "\u001b[?25h\u001b[31mERROR: pip's dependency resolver does not currently take into account all the packages that are installed. This behaviour is the source of the following dependency conflicts.\n",
            "orbax-checkpoint 0.3.2 requires jax>=0.4.9, but you have jax 0.3.25 which is incompatible.\u001b[0m\u001b[31m\n",
            "\u001b[0mRequirement already satisfied: keras in /usr/local/lib/python3.10/dist-packages (2.12.0)\n",
            "Requirement already satisfied: scikit-learn in /usr/local/lib/python3.10/dist-packages (1.2.2)\n",
            "Requirement already satisfied: numpy>=1.17.3 in /usr/local/lib/python3.10/dist-packages (from scikit-learn) (1.23.5)\n",
            "Requirement already satisfied: scipy>=1.3.2 in /usr/local/lib/python3.10/dist-packages (from scikit-learn) (1.11.1)\n",
            "Requirement already satisfied: joblib>=1.1.1 in /usr/local/lib/python3.10/dist-packages (from scikit-learn) (1.3.1)\n",
            "Requirement already satisfied: threadpoolctl>=2.0.0 in /usr/local/lib/python3.10/dist-packages (from scikit-learn) (3.2.0)\n"
          ]
        }
      ],
      "source": [
        "!pip install -q keras-tcn\n",
        "!pip install keras\n",
        "!pip install scikit-learn"
      ]
    },
    {
      "cell_type": "code",
      "execution_count": 6,
      "metadata": {
        "id": "9dBpyq5tFY1z"
      },
      "outputs": [],
      "source": [
        "from sklearn.model_selection import StratifiedKFold\n",
        "from sklearn.preprocessing import StandardScaler\n",
        "from sklearn.utils.class_weight import compute_sample_weight\n",
        "from sklearn.metrics import mean_squared_error, mean_absolute_error, r2_score\n",
        "import keras.backend as K\n",
        "from keras.layers import Dense, Input, Conv2D, Reshape, Flatten, Dropout,MaxPooling2D,LSTM,SimpleRNN\n",
        "from keras.initializers import glorot_normal\n",
        "from keras.models import Model\n",
        "from keras import optimizers\n",
        "from tensorflow import keras\n",
        "from sklearn.model_selection import train_test_split\n",
        "from keras.utils import to_categorical\n",
        "from sklearn.metrics import confusion_matrix,accuracy_score\n",
        "import matplotlib.pyplot as plt\n",
        "import seaborn as sns\n",
        "from sklearn.metrics import classification_report\n",
        "from sklearn.metrics import roc_curve, auc,roc_auc_score\n",
        "from tcn import TCN\n",
        "from keras.models import Sequential\n",
        "from keras.optimizers import SGD,Adam"
      ]
    },
    {
      "cell_type": "code",
      "execution_count": 7,
      "metadata": {
        "id": "1b4hQ-oYOPRD"
      },
      "outputs": [],
      "source": [
        "octave.addpath('/content/eeglab/functions/adminfunc');\n",
        "octave.addpath('/content/eeglab/functions/popfunc');\n",
        "octave.addpath('/content/eeglab/functions/adminfunc');\n",
        "octave.addpath('/content/eeglab/functions/sigprocfunc');\n",
        "octave.addpath('/content/eeglab/functions/miscfunc');\n",
        "octave.addpath('/content/eeglab/functions/statistics');\n",
        "octave.addpath('/content/eeglab/functions/studyfunc');\n",
        "octave.addpath('/content/eeglab/functions/supportfiles');\n",
        "octave.addpath('/content/eeglab/functions/timefreqfunc');"
      ]
    },
    {
      "cell_type": "code",
      "execution_count": 8,
      "metadata": {
        "id": "KqP9Ym9fmCwA"
      },
      "outputs": [],
      "source": [
        "def list2arr(*argv):\n",
        "\tout = np.empty(len(argv),dtype=np.object)\n",
        "\tfor i in range(len(argv)):\n",
        "\t\tout[i] = argv[i]\n",
        "\treturn out"
      ]
    },
    {
      "cell_type": "code",
      "execution_count": 9,
      "metadata": {
        "colab": {
          "base_uri": "https://localhost:8080/",
          "height": 36
        },
        "id": "FCPtcL4-fEn0",
        "outputId": "6332cd52-4958-44cb-de6d-5c44801af7f5"
      },
      "outputs": [
        {
          "data": {
            "application/vnd.google.colaboratory.intrinsic+json": {
              "type": "string"
            },
            "text/plain": [
              "\"\\n\\toctave.pop_saveset(matData, filename=f'{item}.set',\\n\\t\\t\\t\\t\\t\\tfilepath=setPathBase, savemode='onefile',\\n\\t\\t\\t\\t\\t\\tcheck='on');\\n\""
            ]
          },
          "execution_count": 9,
          "metadata": {},
          "output_type": "execute_result"
        }
      ],
      "source": [
        "def process_sources(item, matPathBase, setPathBase):\n",
        "\tmatName = f'{item}_Depression_REST'\n",
        "\tmatItem = matPathBase + matName + '.mat'\n",
        "\t# load mat filr\n",
        "\tmatData = scipy.io.loadmat(matItem)\n",
        "\tmatData = octave.eeg_checkset(matData)\n",
        "\tsetPathBase = f'{item}.set'\n",
        "\t# save data as set file\n",
        "\tscipy.io.savemat(setPathBase,matData)\n",
        "\"\"\"\n",
        "\toctave.pop_saveset(matData, filename=f'{item}.set',\n",
        "\t\t\t\t\t\tfilepath=setPathBase, savemode='onefile',\n",
        "\t\t\t\t\t\tcheck='on');\n",
        "\"\"\""
      ]
    },
    {
      "cell_type": "code",
      "execution_count": 10,
      "metadata": {
        "id": "xWKBBSSPmFj_"
      },
      "outputs": [],
      "source": [
        "def process_signal(raw):\n",
        "\t## Set reference\n",
        "\traw.set_eeg_reference(ref_channels=['M1', 'M2'])\n",
        "\n",
        "\t## Drop Bad Channels\n",
        "\traw.drop_channels([x for x in ['CB1', 'CB2', 'EKG', 'HEOG', 'VEOG'] if x in raw.ch_names])\n",
        "\n",
        "\t## Remove Baseline\n",
        "\traw._data = mne.baseline.rescale(raw.get_data(), raw.times, (None, None))\n",
        "\n",
        "\t## Apply notch filter\n",
        "\traw.notch_filter(50)\n",
        "\n",
        "\t## Apply Frequency Band Filter\n",
        "\t#delta .5 - 4\n",
        "\t#theta 4 - 8\n",
        "\t#alpha 8 - 13\n",
        "\t#c 13 - 30\n",
        "\traw.filter(.2, 45, method='iir', verbose='WARNING')\n",
        "\n",
        "\t## Apply Butter Filter\n",
        "\tlowcut = 1.0\n",
        "\thighcut = 50.0\n",
        "\torder = 5\n",
        "\tnyq = 0.5 * raw.info['sfreq']\n",
        "\tlow = lowcut / nyq\n",
        "\thigh = highcut / nyq\n",
        "\tb, a = scipy.signal.butter(order, [low, high], btype='band')\n",
        "\traw._data = scipy.signal.lfilter(b, a, raw.get_data())\n",
        "\n",
        "\t## Apply ICA Decomposition\n",
        "\tica = mne.preprocessing.ICA(max_iter=100, random_state=1)\n",
        "\tica.fit(raw)\n",
        "\tica.apply(raw)\n",
        "\treturn raw"
      ]
    },
    {
      "cell_type": "code",
      "execution_count": 11,
      "metadata": {
        "id": "fGpFpVI74hfS"
      },
      "outputs": [],
      "source": [
        "def epoching(item, setPathBase, epochPathBase, valid_events):\n",
        "\tsetItem = setPathBase + f'{item}' + '.set'\n",
        "\tfepoch = epochPathBase + f'{item}' + '_epo'\n",
        "\tftimes = epochPathBase + f'{item}' + '_ept'\n",
        "\t## Read SET file\n",
        "\traw = mne.io.read_raw_eeglab(setItem)\n",
        "\t## Fetch Events\n",
        "\tevents, event_id = mne.events_from_annotations(raw)\n",
        "\tevent_id = dict((k.replace('.0',''),v) for k,v in event_id.items())\n",
        "\tevent_id_swapd = dict((v,k) for k,v in event_id.items())\n",
        "\t## Process signal\n",
        "\traw = process_signal(raw)\n",
        "\t## Apply Epoching\n",
        "\tepochs = {}\n",
        "\ttimes = {}\n",
        "\tmaxI = len(events) - 1\n",
        "\tprev_ev_name = None\n",
        "\tfor i,ev in enumerate(events):\n",
        "\t\tev_name = event_id_swapd[ev[2]]\n",
        "\t\tif ev_name not in valid_events:\n",
        "\t\t\tcontinue\n",
        "\t\ttmin = ev[0]\n",
        "\t\tif i == maxI:\n",
        "\t\t\ttmax = raw._data.shape[1]\n",
        "\t\telse:\n",
        "\t\t\ttmax = events[i+1][0]\n",
        "\t\t\tif len(events) > i+2 and ev[-1] not in [14,15] and events[i+1][-1] in [14,15]:\n",
        "\t\t\t\tccc,j = 0,1\n",
        "\t\t\t\twhile( events[i+j][-1] in [14,15] ): ccc+=1;j+=1;\n",
        "\t\t\t\tlast = events[i+j]\n",
        "\t\t\t\tif (ev[-1] in [1,9,10,11,12,13]\n",
        "\t\t\t\t\tand (last[-1] == ev[-1] or last[0]-tmin <= 270)\n",
        "\t\t\t\t\tor (last[-1] != ev[-1] and tmax-tmin < 174 and last[0]-tmin <= 176)\n",
        "\t\t\t\t\t):\n",
        "\t\t\t\t\ttmax = last[0]\n",
        "\t\tdd = raw._data[:,tmin:tmax].transpose()\n",
        "\t\ttt = raw.times[tmin:tmax]\n",
        "\t\tif epochs.get(ev_name) is None:\n",
        "\t\t\tepochs[ev_name] = [[dd]]\n",
        "\t\t\ttimes[ev_name] = [[tt]]\n",
        "\t\telse:\n",
        "\t\t\tif prev_ev_name == ev_name:\n",
        "\t\t\t\tepochs[ev_name][-1].append(dd)\n",
        "\t\t\t\ttimes[ev_name][-1].append(tt)\n",
        "\t\t\telse:\n",
        "\t\t\t\tepochs[ev_name].append([dd])\n",
        "\t\t\t\ttimes[ev_name].append([tt])\n",
        "\t\tprev_ev_name = ev_name\n",
        "\tif len(epochs) < len(valid_events):\n",
        "\t\tprint('Subject does not have all events:',item)\n",
        "\t\treturn False\n",
        "\tepochsNp = []\n",
        "\ttimesNp = []\n",
        "\tfor ev in valid_events:\n",
        "\t\tepochsNp.append(np.array([list2arr(*x) for x in epochs[ev]]))\n",
        "\t\ttimesNp.append(np.array([list2arr(*x) for x in times[ev]]))\n",
        "\tepochsNp = list2arr(*epochsNp)\n",
        "\ttimesNp = list2arr(*timesNp)\n",
        "\tnp.save(fepoch, epochsNp)\n",
        "\tnp.save(ftimes, timesNp)\n",
        "\treturn True"
      ]
    },
    {
      "cell_type": "code",
      "execution_count": 12,
      "metadata": {
        "id": "dnYyookTmNLj"
      },
      "outputs": [],
      "source": [
        "def features_of_channel(data, timesdiff):\n",
        "\tif len(data) < 3:\n",
        "\t\treturn None\n",
        "\tsfreq = 500\n",
        "\tdwt='db4'\n",
        "\t# DWT - Discrete Wavelet Transform\n",
        "\tcA,cD = pywt.dwt(data, dwt)\n",
        "\t# DWT - FFT of Approximation\n",
        "\tcAf = np.fft.fft(cA)\n",
        "\t# DWT - FFT of Details\n",
        "\tcDf = np.fft.fft(cD)\n",
        "\t# Diff - First Order Difference\n",
        "\tdiff1 = np.diff(data)\n",
        "\t# Diff - Second Order Difference\n",
        "\tdiff2 = np.diff(data,n=2)\n",
        "\t# Diff - Variance of First Order Difference\n",
        "\tdiff1Var = np.mean(diff1 ** 2)\n",
        "\t# Hjorth - Activity\n",
        "\tactivity = np.var(data)\n",
        "\t# Hjorth - Mobility\n",
        "\tmobility = np.sqrt(diff1Var / activity)\n",
        "\t# Hjorth - Complexity\n",
        "\tcomplexity = np.sqrt(np.mean(diff2 ** 2) / diff1Var) / mobility\n",
        "\t# FFT - Fast Fourier Transform\n",
        "\tfft1 = np.fft.fft(data)\n",
        "\t# FFT - ABS(FFT)\n",
        "\tfft1abs = np.abs(fft1.real)\n",
        "\t# Bands - Delta/Theta/Alpha/Beta\n",
        "\n",
        "\tbands = {\n",
        "\t  'delta':{'freq':(0.5,4),'sum': 0,'max': 0},\n",
        "\t  'theta':{'freq':(4,8)  ,'sum': 0,'max': 0},\n",
        "\t  'alpha':{'freq':(8,13) ,'sum': 0,'max': 0},\n",
        "\t  'beta' :{'freq':(13,30),'sum': 0,'max': 0},\n",
        "\t}\n",
        "\n",
        "\tshape1sfreq = float(data.shape[0])/sfreq\n",
        "\tfor band,bandDict in bands.items():\n",
        "\t\tarange = np.arange(bandDict['freq'][0]*shape1sfreq,\n",
        "\t\t\t\t\t\t\tbandDict['freq'][1]*shape1sfreq, dtype=int)\n",
        "\t\tbandDict['sum'] = np.sum(fft1abs.real[arange])\n",
        "\t\tbandDict['max'] = np.max(fft1abs.real[arange])\n",
        "\n",
        "\t# Vertex to Vertex Slope\n",
        "\tdiff1Slope = diff1/timesdiff\n",
        "\tresult = np.array([\n",
        "\t\t\t\t\t\tnp.min(data),                                #   'Min'\n",
        "\t\t\t\t\t\tnp.max(data),                                #   'Max'\n",
        "\t\t\t\t\t\tnp.std(data),                                #   'STD'\n",
        "\t\t\t\t\t\tnp.mean(data),                               #   'Mean'\n",
        "\t\t\t\t\t\tnp.median(data),                             #   'Median'\n",
        "\t\t\t\t\t\tactivity,                                    #   'Activity'\n",
        "\t\t\t\t\t\tmobility,                                    #   'Mobility'\n",
        "\t\t\t\t\t\tcomplexity,                                  #   'Complexity'\n",
        "\t\t\t\t\t\tscipy.stats.kurtosis(data),                  #   'Kurtosis'\n",
        "\t\t\t\t\t\tnp.mean(diff2),                              #   '2nd Difference Mean'\n",
        "\t\t\t\t\t\tnp.max(diff2),                               #   '2nd Difference Max'\n",
        "\t\t\t\t\t\tnp.mean(diff1),                              #   '1st Difference Mean'\n",
        "\t\t\t\t\t\tnp.max(diff1),                               #   '1st Difference Max'\n",
        "\t\t\t\t\t\tscipy.stats.variation(data),                 #   'Coeffiecient of Variation'\n",
        "\t\t\t\t\t\tscipy.stats.skew(data),                      #   'Skewness'\n",
        "\t\t\t\t\t\tnp.mean(cA),                                 #   'Wavelet Approximate Mean'\n",
        "\t\t\t\t\t\tnp.std(cA),                                  #   'Wavelet Approximate Std Deviation'\n",
        "\t\t\t\t\t\tnp.mean(cD),                                 #   'Wavelet Detailed Mean'\n",
        "\t\t\t\t\t\tnp.std(cD),                                  #   'Wavelet Detailed Std Deviation'\n",
        "\t\t\t\t\t\tnp.sum(np.abs(cAf) ** 2) / cAf.size,         #   'Wavelet Approximate Energy'\n",
        "\t\t\t\t\t\tnp.sum(np.abs(cDf) ** 2) / cDf.size,         #   'Wavelet Detailed Energy'\n",
        "\t\t\t\t\t\t-np.sum(cA * np.nan_to_num(np.log(cA))),     #   'Wavelet Approximate Entropy'\n",
        "\t\t\t\t\t\t-np.sum(cD * np.nan_to_num(np.log(cD))),     #   'Wavelet Detailed Entropy'\n",
        "\t\t\t\t\t\tnp.mean(diff1Slope),                         #   'Mean of Vertex to Vertex Slope'\n",
        "\t\t\t\t\t\tnp.var(diff1Slope),                          #   'Var  of Vertex to Vertex Slope'\n",
        "\t\t\t\t\t\tbands['delta']['max'],                       #   'FFT Delta Max Power'\n",
        "\t\t\t\t\t\tbands['theta']['max'],                       #   'FFT Theta Max Power'\n",
        "\t\t\t\t\t\tbands['alpha']['max'],                       #   'FFT Alpha Max Power'\n",
        "\t\t\t\t\t\tbands['beta' ]['max'],                       #   'FFT Beta Max Power'\n",
        "\t\t\t\t\t\tbands['delta']['sum']/bands['alpha']['sum'], #   'Delta/Alpha'\n",
        "\t\t\t\t\t\tbands['delta']['sum']/bands['theta']['sum'], #   'Delta/Theta'\n",
        "\t\t\t\t\t\t])\n",
        "\treturn result"
      ]
    },
    {
      "cell_type": "code",
      "execution_count": 13,
      "metadata": {
        "id": "9hAwf1UXmREj"
      },
      "outputs": [],
      "source": [
        "def extract_features(item, epochPathBase, featPathBase):\n",
        "\tfepoch = epochPathBase + f'{item}' + '_epo.npy'\n",
        "\tftimes = epochPathBase + f'{item}' + '_ept.npy'\n",
        "\tfeatPath = featPathBase + f'{item}' + '_feat'\n",
        "\n",
        "\tepochs = np.load(fepoch, allow_pickle=True)\n",
        "\ttimes  = np.load(ftimes, allow_pickle=True)\n",
        "\tft = []\n",
        "\t# per event\n",
        "\tfor ev in range(len(epochs)):\n",
        "\t\t# per epochs sequence\n",
        "\t\tft.append([])\n",
        "\t\tfor epo_gr in range(len(epochs[ev])):\n",
        "\t\t\t# per single epoch\n",
        "\t\t\tft[-1].append([])\n",
        "\t\t\tfor epo in range(len(epochs[ev][epo_gr])):\n",
        "\t\t\t\t# per channel\n",
        "\t\t\t\ttimesdiff = np.diff(times[ev][epo_gr][epo])\n",
        "\t\t\t\tft[-1][-1].append([])\n",
        "\t\t\t\tfor ch in range(epochs[ev][epo_gr][epo].shape[1]):\n",
        "\t\t\t\t\tres = features_of_channel(epochs[ev][epo_gr][epo][:,ch], timesdiff)\n",
        "\t\t\t\t\tif res is not None:\n",
        "\t\t\t\t\t\tft[-1][-1][-1].append(res)\n",
        "\t\t\t\t\tif not len(ft[-1][-1][-1]):\n",
        "\t\t\t\t\t\tdel ft[-1][-1][-1]\n",
        "\t\t\t\tft[-1][-1][-1] = np.array(ft[-1][-1][-1])\n",
        "\t\t\tft[-1][-1] = np.array(ft[-1][-1])\n",
        "\t\tft[-1] = np.concatenate(ft[-1])\n",
        "\tft = list2arr(*ft)\n",
        "\tnp.save(featPath, ft)\n",
        "\treturn True"
      ]
    },
    {
      "cell_type": "code",
      "execution_count": 14,
      "metadata": {
        "id": "Gm9Bx5C6mTCq"
      },
      "outputs": [],
      "source": [
        "def pad_N_epochs(x,limit):\n",
        "\tout = []\n",
        "\tfor y in x:\n",
        "\t\twhile len(y) < limit:\n",
        "\t\t\ty = np.concatenate([y,y[-(limit-len(y)):]])\n",
        "\t\tout.append(y[:limit])\n",
        "\treturn np.array(out)"
      ]
    },
    {
      "cell_type": "code",
      "execution_count": 15,
      "metadata": {
        "id": "6WMjqzA0cuRa"
      },
      "outputs": [],
      "source": [
        "def load_featured_data(featPathBase, labelPath, itemNums):\n",
        "\t# load labels file\n",
        "\tlabels_data = pd.ExcelFile(labelPath)\n",
        "\tlabels_data = labels_data.parse('Depression Rest')\n",
        "\t# load feature data\n",
        "\tdata = []\n",
        "\tlabels = []\n",
        "\tcounter = 0\n",
        "\tfor item in itemNums:\n",
        "\t\tcounter += 1\n",
        "\t\tfeatPath = featPathBase + f'{item}' + '_feat.npy'\n",
        "\t\ttemp_data = np.load(featPath, allow_pickle=True)\n",
        "\t\ttemp_data = pad_N_epochs(temp_data, 120)\n",
        "\t\ttemp_data = temp_data.reshape(temp_data.shape[0], temp_data.shape[1], -1)\n",
        "\t\tdata.append(temp_data)\n",
        "\t\tlab = labels_data[labels_data['id']==item].BDI.values[0]*np.ones(temp_data.shape[0])\n",
        "\t\tlabels.append(lab)\n",
        "\n",
        "\tdata = np.concatenate(data)\n",
        "\tlabels = np.concatenate(labels).astype('uint8')\n",
        "\treturn data, labels"
      ]
    },
    {
      "cell_type": "code",
      "execution_count": 18,
      "metadata": {
        "id": "PTcP52tzm3Ji"
      },
      "outputs": [],
      "source": [
        "from tqdm import tqdm\n",
        "#itemNums = [*range(507, 544), *range(545, 571), *range(573, 629)]\n",
        "#itemNums = [507,563,565,574]\n",
        "\n",
        "valid_events = ['1', '2', '3', '4', '5', '6', '11', '12', '13', '14', '15', '16']\n",
        "\n",
        "matPathBase = '/content/drive/MyDrive/Depression Rest/Matlab Files/'\n",
        "setPathBase = '/content/drive/MyDrive/depset/'\n",
        "labelPath = '/content/drive/MyDrive/Depression Rest/labels.xlsx'\n",
        "\n",
        "\n",
        "\n",
        "epochPathBase = '/content/drive/MyDrive/epoched_data/'\n",
        "featPathBase = '/content/drive/MyDrive/extracted_features/'\n",
        "\n",
        "CREATE_SET_FILES = True\n",
        "DO_EPOCHING = True\n",
        "EXTRACT_FEATURES = True"
      ]
    },
    {
      "cell_type": "code",
      "execution_count": 17,
      "metadata": {
        "colab": {
          "base_uri": "https://localhost:8080/",
          "height": 54
        },
        "id": "7QpUWe3I8cBg",
        "outputId": "4220bf98-dee5-4dcf-b97f-08e78c7ce4bc"
      },
      "outputs": [
        {
          "data": {
            "application/vnd.google.colaboratory.intrinsic+json": {
              "type": "string"
            },
            "text/plain": [
              "'\\nfor item in tqdm(itemNums):\\n  process_sources(item, matPathBase, setPathBase)\\nfor item in tqdm(itemNums):\\n  epoching(item, setPathBase, epochPathBase, valid_events)\\nfor item in tqdm(itemNums):\\n  extract_features(item, epochPathBase, featPathBase)\\n'"
            ]
          },
          "execution_count": 17,
          "metadata": {},
          "output_type": "execute_result"
        }
      ],
      "source": [
        "\"\"\"\n",
        "for item in tqdm(itemNums):\n",
        "  process_sources(item, matPathBase, setPathBase)\n",
        "for item in tqdm(itemNums):\n",
        "  epoching(item, setPathBase, epochPathBase, valid_events)\n",
        "for item in tqdm(itemNums):\n",
        "  extract_features(item, epochPathBase, featPathBase)\n",
        "\"\"\""
      ]
    },
    {
      "cell_type": "code",
      "execution_count": 20,
      "metadata": {
        "id": "Hl1JY3JG_r0O"
      },
      "outputs": [],
      "source": [
        "def model_arch(input_dim, timesteps):\n",
        "  #Assuming you have 'timesteps' and 'input_dim' defined\n",
        "  num_classes = 3  # Number of classes in your classification task\n",
        "\n",
        "  # Model architecture\n",
        "  krl_init = glorot_normal(seed=42)\n",
        "\n",
        "  i = Input(shape=(timesteps, input_dim, 1), name='inp')\n",
        "  h = Conv2D(filters=64, kernel_size=5, strides=(3, 3), activation='relu',\n",
        "            name='conv2_1', kernel_initializer=krl_init, data_format='channels_last')(i)\n",
        "  h = Conv2D(filters=64, kernel_size=3, strides=(2, 2), activation='relu',\n",
        "            name='conv2_2', kernel_initializer=krl_init, data_format='channels_last')(h)\n",
        "  s = K.int_shape(h)\n",
        "  h = Reshape((s[1], s[2]*s[3]))(h)\n",
        "  h = TCN(return_sequences=True, nb_filters=50, kernel_size=3, kernel_initializer=krl_init,\n",
        "          nb_stacks=1, padding='causal', dilations=[1, 2, 4], activation='relu', name='tcn1')(h)\n",
        "  h = Flatten(name='flt')(h)\n",
        "  h = Dropout(0.5, name='drp1')(h)\n",
        "  h = Dense(512, activation='relu', name='fc1')(h)\n",
        "  h = Dense(num_classes, activation='softmax', name='output')(h)  # Using 'softmax' for multi-class classification\n",
        "\n",
        "  model = Model(inputs=i, outputs=h)\n",
        "  adamopt = keras.optimizers.Adam(learning_rate=0.0001)\n",
        "  model.compile(optimizer=adamopt, loss='categorical_crossentropy', metrics=['accuracy'])\n",
        "\n",
        "  model.summary()\n",
        "  return model"
      ]
    },
    {
      "cell_type": "code",
      "execution_count": 21,
      "metadata": {
        "id": "EsI65zFFGwoQ"
      },
      "outputs": [],
      "source": [
        "def train_model(train_x, train_y):\n",
        "    sc = StandardScaler()\n",
        "    # standardize data\n",
        "    for i in range(train_x.shape[0]):\n",
        "        sc.partial_fit(train_x[i])\n",
        "    for i in range(train_x.shape[0]):\n",
        "        train_x[i] = sc.transform(train_x[i])\n",
        "    train_y = to_categorical(train_y, num_classes=3)\n",
        "    # prepare shape of data\n",
        "    (_, timesteps, num_feats) = train_x.shape\n",
        "    train_x = np.expand_dims(train_x, axis=-1)\n",
        "    # define model\n",
        "    K.clear_session()\n",
        "    model = model_arch(num_feats, timesteps)\n",
        "    # train model\n",
        "    model.fit(train_x, train_y, batch_size=7, epochs=50,\n",
        "              shuffle=True, verbose=0)\n",
        "\n",
        "    return model, sc"
      ]
    },
    {
      "cell_type": "code",
      "execution_count": 16,
      "metadata": {
        "id": "dQQAyzPXCYG0"
      },
      "outputs": [],
      "source": [
        "itemNums = [507,508,513,514,566,628,594,610,611,561,565,567,569,558,586,515,518,616,509,510,511,513,525,617,621,622,625,559,590,592]\n",
        "valid_events = ['1', '2', '3', '4', '5', '6', '11', '12', '13', '14', '15', '16']"
      ]
    },
    {
      "cell_type": "code",
      "execution_count": 19,
      "metadata": {
        "id": "Ka47fR9R5ETx"
      },
      "outputs": [],
      "source": [
        "X, Y = load_featured_data(featPathBase, labelPath, itemNums)"
      ]
    },
    {
      "cell_type": "code",
      "execution_count": 28,
      "metadata": {
        "id": "vL4ObTzZEIMF"
      },
      "outputs": [],
      "source": []
    },
    {
      "cell_type": "code",
      "execution_count": 29,
      "metadata": {
        "colab": {
          "base_uri": "https://localhost:8080/",
          "height": 1049
        },
        "id": "zVuL_FOYQpaO",
        "outputId": "5db118bb-72b3-4851-87c3-b0fa65fc36db"
      },
      "outputs": [
        {
          "name": "stdout",
          "output_type": "stream",
          "text": [
            "Model: \"model\"\n",
            "_________________________________________________________________\n",
            " Layer (type)                Output Shape              Param #   \n",
            "=================================================================\n",
            " inp (InputLayer)            [(None, 120, 1550, 1)]    0         \n",
            "                                                                 \n",
            " conv2_1 (Conv2D)            (None, 39, 516, 64)       1664      \n",
            "                                                                 \n",
            " conv2_2 (Conv2D)            (None, 19, 257, 64)       36928     \n",
            "                                                                 \n",
            " reshape (Reshape)           (None, 19, 16448)         0         \n",
            "                                                                 \n",
            " tcn1 (TCN)                  (None, 19, 50)            3327450   \n",
            "                                                                 \n",
            " flt (Flatten)               (None, 950)               0         \n",
            "                                                                 \n",
            " drp1 (Dropout)              (None, 950)               0         \n",
            "                                                                 \n",
            " fc1 (Dense)                 (None, 512)               486912    \n",
            "                                                                 \n",
            " output (Dense)              (None, 3)                 1539      \n",
            "                                                                 \n",
            "=================================================================\n",
            "Total params: 3,854,493\n",
            "Trainable params: 3,854,493\n",
            "Non-trainable params: 0\n",
            "_________________________________________________________________\n",
            "4/4 [==============================] - 5s 961ms/step\n"
          ]
        },
        {
          "data": {
            "image/png": "[encoded data removed]",
            "text/plain": [
              "<Figure size 800x600 with 2 Axes>"
            ]
          },
          "metadata": {},
          "output_type": "display_data"
        }
      ],
      "source": [
        "# select training and test data\n",
        "#train_x, test_x = X[train_index], X[test_index]\n",
        "#train_y, test_y = Y[train_index], Y[test_index]\n",
        "# model training\n",
        "train_x, test_x,train_y, test_y  = train_test_split(X, Y, test_size=0.33, random_state=21,shuffle=True)\n",
        "model, scaler = train_model(train_x, train_y)\n",
        "# standardize test data\n",
        "for i in range(test_x.shape[0]):\n",
        "    test_x[i] = scaler.transform(test_x[i])\n",
        "# prepare shape of data\n",
        "train_x = np.expand_dims(train_x, axis=-1)\n",
        "test_x = np.expand_dims(test_x, axis=-1)\n",
        "# Evaluate the model\n",
        "y_pred = model.predict(test_x)\n",
        "y_pred_classes = np.argmax(y_pred, axis=-1)\n",
        "\n",
        "# Calculate confusion matrix\n",
        "confusion_mtx = confusion_matrix(test_y, y_pred_classes)\n",
        "\n",
        "# Display the confusion matrix\n",
        "plt.figure(figsize=(8, 6))\n",
        "sns.heatmap(confusion_mtx, annot=True, fmt='d', cmap='Blues')\n",
        "plt.xlabel('Predicted Labels')\n",
        "plt.ylabel('True Labels')\n",
        "plt.title('Confusion Matrix CNN-TCN')\n",
        "plt.show()"
      ]
    },
    {
      "cell_type": "code",
      "execution_count": 40,
      "metadata": {
        "colab": {
          "base_uri": "https://localhost:8080/",
          "height": 0
        },
        "id": "lnbhVMpUeLyo",
        "outputId": "42f9396f-9a5a-4a87-ad9f-9e97fe4108bf"
      },
      "outputs": [
        {
          "name": "stdout",
          "output_type": "stream",
          "text": [
            "              precision    recall  f1-score   support\n",
            "\n",
            "           0       0.74      0.87      0.80        39\n",
            "           1       0.80      0.80      0.80        46\n",
            "           2       0.89      0.71      0.79        34\n",
            "\n",
            "    accuracy                           0.80       119\n",
            "   macro avg       0.81      0.79      0.80       119\n",
            "weighted avg       0.81      0.80      0.80       119\n",
            "\n"
          ]
        }
      ],
      "source": [
        "print(classification_report(test_y, y_pred_classes))"
      ]
    },
    {
      "cell_type": "code",
      "execution_count": 30,
      "metadata": {
        "id": "oAQuQ_rSSiPv"
      },
      "outputs": [],
      "source": [
        "# Assuming you have train_x, train_y, test_x, and test_y\n",
        "train_x, test_x,train_y, test_y  = train_test_split(X, Y, test_size=0.33, random_state=21,shuffle=True)\n",
        "\n",
        "# Define input shape\n",
        "sc = StandardScaler()\n",
        "# standardize data\n",
        "for i in range(train_x.shape[0]):\n",
        "    sc.partial_fit(train_x[i])\n",
        "for i in range(train_x.shape[0]):\n",
        "    train_x[i] = sc.transform(train_x[i])\n",
        "train_y = to_categorical(train_y, num_classes=3)\n",
        "# prepare shape of data\n",
        "(_, timesteps, num_feats) = train_x.shape\n",
        "train_x = np.expand_dims(train_x, axis=-1)\n",
        "\n",
        "input_dim = num_feats\n",
        "\n",
        "num_classes = 3  # Number of classes in your classification task"
      ]
    },
    {
      "cell_type": "code",
      "execution_count": 31,
      "metadata": {
        "colab": {
          "base_uri": "https://localhost:8080/",
          "height": 0
        },
        "id": "hI2WM5aNEJRd",
        "outputId": "2f9da538-efc5-44f7-ae12-e0ef2c658391"
      },
      "outputs": [
        {
          "name": "stdout",
          "output_type": "stream",
          "text": [
            "Epoch 1/50\n",
            "8/8 [==============================] - 11s 1s/step - loss: 1.3665 - accuracy: 0.3029\n",
            "Epoch 2/50\n",
            "8/8 [==============================] - 14s 2s/step - loss: 1.0365 - accuracy: 0.5062\n",
            "Epoch 3/50\n",
            "8/8 [==============================] - 17s 2s/step - loss: 0.9422 - accuracy: 0.6017\n",
            "Epoch 4/50\n",
            "8/8 [==============================] - 15s 1s/step - loss: 0.8674 - accuracy: 0.6722\n",
            "Epoch 5/50\n",
            "8/8 [==============================] - 13s 2s/step - loss: 0.7847 - accuracy: 0.7718\n",
            "Epoch 6/50\n",
            "8/8 [==============================] - 10s 1s/step - loss: 0.6954 - accuracy: 0.7801\n",
            "Epoch 7/50\n",
            "8/8 [==============================] - 12s 1s/step - loss: 0.6115 - accuracy: 0.8340\n",
            "Epoch 8/50\n",
            "8/8 [==============================] - 11s 1s/step - loss: 0.5239 - accuracy: 0.9212\n",
            "Epoch 9/50\n",
            "8/8 [==============================] - 11s 1s/step - loss: 0.4507 - accuracy: 0.9212\n",
            "Epoch 10/50\n",
            "8/8 [==============================] - 13s 2s/step - loss: 0.4058 - accuracy: 0.9046\n",
            "Epoch 11/50\n",
            "8/8 [==============================] - 9s 1s/step - loss: 0.3396 - accuracy: 0.9419\n",
            "Epoch 12/50\n",
            "8/8 [==============================] - 13s 2s/step - loss: 0.2870 - accuracy: 0.9668\n",
            "Epoch 13/50\n",
            "8/8 [==============================] - 10s 1s/step - loss: 0.2463 - accuracy: 0.9876\n",
            "Epoch 14/50\n",
            "8/8 [==============================] - 12s 1s/step - loss: 0.2176 - accuracy: 0.9917\n",
            "Epoch 15/50\n",
            "8/8 [==============================] - 12s 2s/step - loss: 0.1866 - accuracy: 0.9917\n",
            "Epoch 16/50\n",
            "8/8 [==============================] - 10s 1s/step - loss: 0.1676 - accuracy: 0.9834\n",
            "Epoch 17/50\n",
            "8/8 [==============================] - 13s 2s/step - loss: 0.1751 - accuracy: 0.9793\n",
            "Epoch 18/50\n",
            "8/8 [==============================] - 9s 1s/step - loss: 0.1319 - accuracy: 0.9959\n",
            "Epoch 19/50\n",
            "8/8 [==============================] - 13s 2s/step - loss: 0.1061 - accuracy: 1.0000\n",
            "Epoch 20/50\n",
            "8/8 [==============================] - 10s 1s/step - loss: 0.0916 - accuracy: 1.0000\n",
            "Epoch 21/50\n",
            "8/8 [==============================] - 12s 1s/step - loss: 0.0848 - accuracy: 1.0000\n",
            "Epoch 22/50\n",
            "8/8 [==============================] - 12s 2s/step - loss: 0.0711 - accuracy: 1.0000\n",
            "Epoch 23/50\n",
            "8/8 [==============================] - 10s 1s/step - loss: 0.0670 - accuracy: 1.0000\n",
            "Epoch 24/50\n",
            "8/8 [==============================] - 15s 2s/step - loss: 0.0596 - accuracy: 1.0000\n",
            "Epoch 25/50\n",
            "8/8 [==============================] - 9s 1s/step - loss: 0.0527 - accuracy: 1.0000\n",
            "Epoch 26/50\n",
            "8/8 [==============================] - 13s 2s/step - loss: 0.0473 - accuracy: 1.0000\n",
            "Epoch 27/50\n",
            "8/8 [==============================] - 11s 1s/step - loss: 0.0426 - accuracy: 1.0000\n",
            "Epoch 28/50\n",
            "8/8 [==============================] - 11s 1s/step - loss: 0.0403 - accuracy: 1.0000\n",
            "Epoch 29/50\n",
            "8/8 [==============================] - 12s 2s/step - loss: 0.0366 - accuracy: 1.0000\n",
            "Epoch 30/50\n",
            "8/8 [==============================] - 10s 1s/step - loss: 0.0347 - accuracy: 1.0000\n",
            "Epoch 31/50\n",
            "8/8 [==============================] - 13s 2s/step - loss: 0.0320 - accuracy: 1.0000\n",
            "Epoch 32/50\n",
            "8/8 [==============================] - 9s 1s/step - loss: 0.0286 - accuracy: 1.0000\n",
            "Epoch 33/50\n",
            "8/8 [==============================] - 13s 2s/step - loss: 0.0263 - accuracy: 1.0000\n",
            "Epoch 34/50\n",
            "8/8 [==============================] - 11s 1s/step - loss: 0.0253 - accuracy: 1.0000\n",
            "Epoch 35/50\n",
            "8/8 [==============================] - 12s 1s/step - loss: 0.0224 - accuracy: 1.0000\n",
            "Epoch 36/50\n",
            "8/8 [==============================] - 12s 2s/step - loss: 0.0213 - accuracy: 1.0000\n",
            "Epoch 37/50\n",
            "8/8 [==============================] - 10s 1s/step - loss: 0.0203 - accuracy: 1.0000\n",
            "Epoch 38/50\n",
            "8/8 [==============================] - 13s 2s/step - loss: 0.0191 - accuracy: 1.0000\n",
            "Epoch 39/50\n",
            "8/8 [==============================] - 9s 1s/step - loss: 0.0169 - accuracy: 1.0000\n",
            "Epoch 40/50\n",
            "8/8 [==============================] - 13s 2s/step - loss: 0.0163 - accuracy: 1.0000\n",
            "Epoch 41/50\n",
            "8/8 [==============================] - 11s 1s/step - loss: 0.0151 - accuracy: 1.0000\n",
            "Epoch 42/50\n",
            "8/8 [==============================] - 11s 1s/step - loss: 0.0137 - accuracy: 1.0000\n",
            "Epoch 43/50\n",
            "8/8 [==============================] - 13s 2s/step - loss: 0.0130 - accuracy: 1.0000\n",
            "Epoch 44/50\n",
            "8/8 [==============================] - 9s 1s/step - loss: 0.0124 - accuracy: 1.0000\n",
            "Epoch 45/50\n",
            "8/8 [==============================] - 13s 2s/step - loss: 0.0116 - accuracy: 1.0000\n",
            "Epoch 46/50\n",
            "8/8 [==============================] - 9s 1s/step - loss: 0.0114 - accuracy: 1.0000\n",
            "Epoch 47/50\n",
            "8/8 [==============================] - 13s 1s/step - loss: 0.0103 - accuracy: 1.0000\n",
            "Epoch 48/50\n",
            "8/8 [==============================] - 11s 1s/step - loss: 0.0102 - accuracy: 1.0000\n",
            "Epoch 49/50\n",
            "8/8 [==============================] - 11s 1s/step - loss: 0.0098 - accuracy: 1.0000\n",
            "Epoch 50/50\n",
            "8/8 [==============================] - 13s 2s/step - loss: 0.0093 - accuracy: 1.0000\n",
            "Model: \"model_1\"\n",
            "_________________________________________________________________\n",
            " Layer (type)                Output Shape              Param #   \n",
            "=================================================================\n",
            " inp_cnn (InputLayer)        [(None, 120, 1550, 1)]    0         \n",
            "                                                                 \n",
            " conv2_1 (Conv2D)            (None, 39, 516, 64)       1664      \n",
            "                                                                 \n",
            " max_pooling2d (MaxPooling2D  (None, 19, 258, 64)      0         \n",
            " )                                                               \n",
            "                                                                 \n",
            " conv2_2 (Conv2D)            (None, 9, 128, 64)        36928     \n",
            "                                                                 \n",
            " max_pooling2d_1 (MaxPooling  (None, 4, 64, 64)        0         \n",
            " 2D)                                                             \n",
            "                                                                 \n",
            " flt (Flatten)               (None, 16384)             0         \n",
            "                                                                 \n",
            " fc1 (Dense)                 (None, 512)               8389120   \n",
            "                                                                 \n",
            " output (Dense)              (None, 3)                 1539      \n",
            "                                                                 \n",
            "=================================================================\n",
            "Total params: 8,429,251\n",
            "Trainable params: 8,429,251\n",
            "Non-trainable params: 0\n",
            "_________________________________________________________________\n"
          ]
        }
      ],
      "source": [
        "# CNN model architecture\n",
        "krl_init = 'glorot_normal'\n",
        "\n",
        "i_cnn = Input(shape=(timesteps, input_dim, 1), name='inp_cnn')\n",
        "h_cnn = Conv2D(filters=64, kernel_size=5, strides=(3, 3), activation='relu',\n",
        "               name='conv2_1', kernel_initializer=krl_init, data_format='channels_last')(i_cnn)\n",
        "h_cnn = MaxPooling2D(pool_size=(2, 2))(h_cnn)\n",
        "h_cnn = Conv2D(filters=64, kernel_size=3, strides=(2, 2), activation='relu',\n",
        "               name='conv2_2', kernel_initializer=krl_init, data_format='channels_last')(h_cnn)\n",
        "h_cnn = MaxPooling2D(pool_size=(2, 2))(h_cnn)\n",
        "h_cnn = Flatten(name='flt')(h_cnn)\n",
        "h_cnn = Dense(512, activation='relu', name='fc1')(h_cnn)\n",
        "output_cnn = Dense(num_classes, activation='softmax', name='output')(h_cnn)\n",
        "\n",
        "# Create and compile CNN model\n",
        "cnn_model = Model(inputs=i_cnn, outputs=output_cnn)\n",
        "adamopt = Adam(learning_rate=0.0001)\n",
        "cnn_model.compile(optimizer=adamopt, loss='categorical_crossentropy', metrics=['accuracy'])\n",
        "\n",
        "# Train CNN model\n",
        "cnn_model.fit(train_x, train_y, epochs=50, batch_size=32, verbose=1)\n",
        "cnn_model.summary()"
      ]
    },
    {
      "cell_type": "code",
      "execution_count": 32,
      "metadata": {
        "colab": {
          "base_uri": "https://localhost:8080/",
          "height": 0
        },
        "id": "2FP-1fPrEP-d",
        "outputId": "56b49b2d-2c32-448d-ca1f-153abb735bd6"
      },
      "outputs": [
        {
          "name": "stdout",
          "output_type": "stream",
          "text": [
            "Epoch 1/50\n",
            "8/8 [==============================] - 3s 148ms/step - loss: 3.0115 - accuracy: 0.2988\n",
            "Epoch 2/50\n",
            "8/8 [==============================] - 1s 188ms/step - loss: 1.2638 - accuracy: 0.4440\n",
            "Epoch 3/50\n",
            "8/8 [==============================] - 2s 245ms/step - loss: 0.9617 - accuracy: 0.5394\n",
            "Epoch 4/50\n",
            "8/8 [==============================] - 2s 242ms/step - loss: 0.8397 - accuracy: 0.6266\n",
            "Epoch 5/50\n",
            "8/8 [==============================] - 2s 258ms/step - loss: 0.7355 - accuracy: 0.7261\n",
            "Epoch 6/50\n",
            "8/8 [==============================] - 2s 258ms/step - loss: 0.6529 - accuracy: 0.7884\n",
            "Epoch 7/50\n",
            "8/8 [==============================] - 2s 235ms/step - loss: 0.5881 - accuracy: 0.8548\n",
            "Epoch 8/50\n",
            "8/8 [==============================] - 1s 135ms/step - loss: 0.5387 - accuracy: 0.8797\n",
            "Epoch 9/50\n",
            "8/8 [==============================] - 1s 137ms/step - loss: 0.4947 - accuracy: 0.9046\n",
            "Epoch 10/50\n",
            "8/8 [==============================] - 1s 141ms/step - loss: 0.4565 - accuracy: 0.9253\n",
            "Epoch 11/50\n",
            "8/8 [==============================] - 1s 133ms/step - loss: 0.4231 - accuracy: 0.9336\n",
            "Epoch 12/50\n",
            "8/8 [==============================] - 1s 142ms/step - loss: 0.3943 - accuracy: 0.9544\n",
            "Epoch 13/50\n",
            "8/8 [==============================] - 1s 143ms/step - loss: 0.3677 - accuracy: 0.9585\n",
            "Epoch 14/50\n",
            "8/8 [==============================] - 1s 135ms/step - loss: 0.3451 - accuracy: 0.9585\n",
            "Epoch 15/50\n",
            "8/8 [==============================] - 1s 142ms/step - loss: 0.3230 - accuracy: 0.9585\n",
            "Epoch 16/50\n",
            "8/8 [==============================] - 1s 159ms/step - loss: 0.3030 - accuracy: 0.9627\n",
            "Epoch 17/50\n",
            "8/8 [==============================] - 2s 245ms/step - loss: 0.2840 - accuracy: 0.9710\n",
            "Epoch 18/50\n",
            "8/8 [==============================] - 2s 249ms/step - loss: 0.2666 - accuracy: 0.9793\n",
            "Epoch 19/50\n",
            "8/8 [==============================] - 2s 250ms/step - loss: 0.2506 - accuracy: 0.9834\n",
            "Epoch 20/50\n",
            "8/8 [==============================] - 2s 247ms/step - loss: 0.2358 - accuracy: 0.9834\n",
            "Epoch 21/50\n",
            "8/8 [==============================] - 2s 230ms/step - loss: 0.2220 - accuracy: 0.9834\n",
            "Epoch 22/50\n",
            "8/8 [==============================] - 1s 139ms/step - loss: 0.2099 - accuracy: 0.9834\n",
            "Epoch 23/50\n",
            "8/8 [==============================] - 1s 137ms/step - loss: 0.1981 - accuracy: 0.9834\n",
            "Epoch 24/50\n",
            "8/8 [==============================] - 1s 140ms/step - loss: 0.1872 - accuracy: 0.9834\n",
            "Epoch 25/50\n",
            "8/8 [==============================] - 1s 139ms/step - loss: 0.1777 - accuracy: 0.9834\n",
            "Epoch 26/50\n",
            "8/8 [==============================] - 1s 144ms/step - loss: 0.1679 - accuracy: 0.9834\n",
            "Epoch 27/50\n",
            "8/8 [==============================] - 1s 142ms/step - loss: 0.1590 - accuracy: 0.9876\n",
            "Epoch 28/50\n",
            "8/8 [==============================] - 1s 138ms/step - loss: 0.1510 - accuracy: 0.9876\n",
            "Epoch 29/50\n",
            "8/8 [==============================] - 1s 138ms/step - loss: 0.1434 - accuracy: 0.9876\n",
            "Epoch 30/50\n",
            "8/8 [==============================] - 1s 164ms/step - loss: 0.1366 - accuracy: 0.9876\n",
            "Epoch 31/50\n",
            "8/8 [==============================] - 2s 244ms/step - loss: 0.1295 - accuracy: 0.9917\n",
            "Epoch 32/50\n",
            "8/8 [==============================] - 2s 251ms/step - loss: 0.1233 - accuracy: 0.9917\n",
            "Epoch 33/50\n",
            "8/8 [==============================] - 2s 259ms/step - loss: 0.1173 - accuracy: 0.9917\n",
            "Epoch 34/50\n",
            "8/8 [==============================] - 2s 263ms/step - loss: 0.1117 - accuracy: 0.9917\n",
            "Epoch 35/50\n",
            "8/8 [==============================] - 2s 224ms/step - loss: 0.1066 - accuracy: 0.9917\n",
            "Epoch 36/50\n",
            "8/8 [==============================] - 1s 137ms/step - loss: 0.1015 - accuracy: 0.9917\n",
            "Epoch 37/50\n",
            "8/8 [==============================] - 1s 137ms/step - loss: 0.0968 - accuracy: 0.9917\n",
            "Epoch 38/50\n",
            "8/8 [==============================] - 1s 143ms/step - loss: 0.0926 - accuracy: 0.9917\n",
            "Epoch 39/50\n",
            "8/8 [==============================] - 1s 137ms/step - loss: 0.0886 - accuracy: 0.9917\n",
            "Epoch 40/50\n",
            "8/8 [==============================] - 1s 140ms/step - loss: 0.0846 - accuracy: 0.9917\n",
            "Epoch 41/50\n",
            "8/8 [==============================] - 1s 140ms/step - loss: 0.0810 - accuracy: 0.9917\n",
            "Epoch 42/50\n",
            "8/8 [==============================] - 1s 140ms/step - loss: 0.0774 - accuracy: 0.9917\n",
            "Epoch 43/50\n",
            "8/8 [==============================] - 1s 139ms/step - loss: 0.0741 - accuracy: 0.9959\n",
            "Epoch 44/50\n",
            "8/8 [==============================] - 1s 172ms/step - loss: 0.0711 - accuracy: 0.9959\n",
            "Epoch 45/50\n",
            "8/8 [==============================] - 2s 248ms/step - loss: 0.0683 - accuracy: 0.9959\n",
            "Epoch 46/50\n",
            "8/8 [==============================] - 2s 251ms/step - loss: 0.0654 - accuracy: 0.9959\n",
            "Epoch 47/50\n",
            "8/8 [==============================] - 2s 248ms/step - loss: 0.0629 - accuracy: 0.9959\n",
            "Epoch 48/50\n",
            "8/8 [==============================] - 2s 257ms/step - loss: 0.0604 - accuracy: 0.9959\n",
            "Epoch 49/50\n",
            "8/8 [==============================] - 2s 232ms/step - loss: 0.0580 - accuracy: 0.9959\n",
            "Epoch 50/50\n",
            "8/8 [==============================] - 1s 137ms/step - loss: 0.0559 - accuracy: 0.9959\n",
            "Model: \"model_2\"\n",
            "_________________________________________________________________\n",
            " Layer (type)                Output Shape              Param #   \n",
            "=================================================================\n",
            " inp_rnn (InputLayer)        [(None, 120, 1550)]       0         \n",
            "                                                                 \n",
            " simple_rnn (SimpleRNN)      (None, 120, 64)           103360    \n",
            "                                                                 \n",
            " simple_rnn_1 (SimpleRNN)    (None, 32)                3104      \n",
            "                                                                 \n",
            " output (Dense)              (None, 3)                 99        \n",
            "                                                                 \n",
            "=================================================================\n",
            "Total params: 106,563\n",
            "Trainable params: 106,563\n",
            "Non-trainable params: 0\n",
            "_________________________________________________________________\n"
          ]
        }
      ],
      "source": [
        "# RNN model architecture\n",
        "i_rnn = Input(shape=(timesteps, input_dim), name='inp_rnn')\n",
        "h_rnn = SimpleRNN(units=64, activation='relu', return_sequences=True)(i_rnn)\n",
        "h_rnn = SimpleRNN(units=32, activation='relu')(h_rnn)\n",
        "output_rnn = Dense(num_classes, activation='softmax', name='output')(h_rnn)\n",
        "\n",
        "# Create and compile RNN model\n",
        "rnn_model = Model(inputs=i_rnn, outputs=output_rnn)\n",
        "rnn_model.compile(optimizer=adamopt, loss='categorical_crossentropy', metrics=['accuracy'])\n",
        "\n",
        "# Train RNN model\n",
        "rnn_model.fit(train_x, train_y, epochs=50, batch_size=32, verbose=1)\n",
        "rnn_model.summary()"
      ]
    },
    {
      "cell_type": "code",
      "execution_count": 33,
      "metadata": {
        "colab": {
          "base_uri": "https://localhost:8080/",
          "height": 0
        },
        "id": "x64_y7j6ESak",
        "outputId": "00356593-f483-49f6-d5f9-98d4b78f5de2"
      },
      "outputs": [
        {
          "name": "stdout",
          "output_type": "stream",
          "text": [
            "Epoch 1/50\n",
            "8/8 [==============================] - 8s 562ms/step - loss: 23.1925 - accuracy: 0.4315\n",
            "Epoch 2/50\n",
            "8/8 [==============================] - 3s 416ms/step - loss: 275.7946 - accuracy: 0.5311\n",
            "Epoch 3/50\n",
            "8/8 [==============================] - 2s 298ms/step - loss: 403.4172 - accuracy: 0.5104\n",
            "Epoch 4/50\n",
            "8/8 [==============================] - 2s 294ms/step - loss: 308.3578 - accuracy: 0.4813\n",
            "Epoch 5/50\n",
            "8/8 [==============================] - 2s 309ms/step - loss: 586.0015 - accuracy: 0.4896\n",
            "Epoch 6/50\n",
            "8/8 [==============================] - 3s 409ms/step - loss: 1062.1085 - accuracy: 0.4938\n",
            "Epoch 7/50\n",
            "8/8 [==============================] - 5s 571ms/step - loss: 6066.4756 - accuracy: 0.4855\n",
            "Epoch 8/50\n",
            "8/8 [==============================] - 4s 512ms/step - loss: 16934.9199 - accuracy: 0.4772\n",
            "Epoch 9/50\n",
            "8/8 [==============================] - 2s 302ms/step - loss: 208362.3906 - accuracy: 0.5062\n",
            "Epoch 10/50\n",
            "8/8 [==============================] - 3s 311ms/step - loss: 21033.2305 - accuracy: 0.4855\n",
            "Epoch 11/50\n",
            "8/8 [==============================] - 2s 304ms/step - loss: 22381.2734 - accuracy: 0.4855\n",
            "Epoch 12/50\n",
            "8/8 [==============================] - 3s 318ms/step - loss: 67852.5781 - accuracy: 0.4938\n",
            "Epoch 13/50\n",
            "8/8 [==============================] - 4s 547ms/step - loss: nan - accuracy: 0.4730\n",
            "Epoch 14/50\n",
            "8/8 [==============================] - 4s 559ms/step - loss: nan - accuracy: 0.3859\n",
            "Epoch 15/50\n",
            "8/8 [==============================] - 3s 318ms/step - loss: nan - accuracy: 0.3859\n",
            "Epoch 16/50\n",
            "8/8 [==============================] - 2s 300ms/step - loss: nan - accuracy: 0.3859\n",
            "Epoch 17/50\n",
            "8/8 [==============================] - 2s 298ms/step - loss: nan - accuracy: 0.3859\n",
            "Epoch 18/50\n",
            "8/8 [==============================] - 2s 304ms/step - loss: nan - accuracy: 0.3859\n",
            "Epoch 19/50\n",
            "8/8 [==============================] - 4s 489ms/step - loss: nan - accuracy: 0.3859\n",
            "Epoch 20/50\n",
            "8/8 [==============================] - 4s 557ms/step - loss: nan - accuracy: 0.3859\n",
            "Epoch 21/50\n",
            "8/8 [==============================] - 4s 450ms/step - loss: nan - accuracy: 0.3859\n",
            "Epoch 22/50\n",
            "8/8 [==============================] - 2s 299ms/step - loss: nan - accuracy: 0.3859\n",
            "Epoch 23/50\n",
            "8/8 [==============================] - 2s 302ms/step - loss: nan - accuracy: 0.3859\n",
            "Epoch 24/50\n",
            "8/8 [==============================] - 2s 303ms/step - loss: nan - accuracy: 0.3859\n",
            "Epoch 25/50\n",
            "8/8 [==============================] - 3s 362ms/step - loss: nan - accuracy: 0.3859\n",
            "Epoch 26/50\n",
            "8/8 [==============================] - 4s 551ms/step - loss: nan - accuracy: 0.3859\n",
            "Epoch 27/50\n",
            "8/8 [==============================] - 5s 575ms/step - loss: nan - accuracy: 0.3859\n",
            "Epoch 28/50\n",
            "8/8 [==============================] - 3s 305ms/step - loss: nan - accuracy: 0.3859\n",
            "Epoch 29/50\n",
            "8/8 [==============================] - 2s 306ms/step - loss: nan - accuracy: 0.3859\n",
            "Epoch 30/50\n",
            "8/8 [==============================] - 3s 314ms/step - loss: nan - accuracy: 0.3859\n",
            "Epoch 31/50\n",
            "8/8 [==============================] - 2s 301ms/step - loss: nan - accuracy: 0.3859\n",
            "Epoch 32/50\n",
            "8/8 [==============================] - 4s 561ms/step - loss: nan - accuracy: 0.3859\n",
            "Epoch 33/50\n",
            "8/8 [==============================] - 5s 566ms/step - loss: nan - accuracy: 0.3859\n",
            "Epoch 34/50\n",
            "8/8 [==============================] - 4s 432ms/step - loss: nan - accuracy: 0.3859\n",
            "Epoch 35/50\n",
            "8/8 [==============================] - 2s 307ms/step - loss: nan - accuracy: 0.3859\n",
            "Epoch 36/50\n",
            "8/8 [==============================] - 2s 304ms/step - loss: nan - accuracy: 0.3859\n",
            "Epoch 37/50\n",
            "8/8 [==============================] - 2s 299ms/step - loss: nan - accuracy: 0.3859\n",
            "Epoch 38/50\n",
            "8/8 [==============================] - 4s 494ms/step - loss: nan - accuracy: 0.3859\n",
            "Epoch 39/50\n",
            "8/8 [==============================] - 4s 556ms/step - loss: nan - accuracy: 0.3859\n",
            "Epoch 40/50\n",
            "8/8 [==============================] - 4s 458ms/step - loss: nan - accuracy: 0.3859\n",
            "Epoch 41/50\n",
            "8/8 [==============================] - 2s 304ms/step - loss: nan - accuracy: 0.3859\n",
            "Epoch 42/50\n",
            "8/8 [==============================] - 2s 301ms/step - loss: nan - accuracy: 0.3859\n",
            "Epoch 43/50\n",
            "8/8 [==============================] - 2s 311ms/step - loss: nan - accuracy: 0.3859\n",
            "Epoch 44/50\n",
            "8/8 [==============================] - 3s 375ms/step - loss: nan - accuracy: 0.3859\n",
            "Epoch 45/50\n",
            "8/8 [==============================] - 5s 563ms/step - loss: nan - accuracy: 0.3859\n",
            "Epoch 46/50\n",
            "8/8 [==============================] - 4s 559ms/step - loss: nan - accuracy: 0.3859\n",
            "Epoch 47/50\n",
            "8/8 [==============================] - 3s 315ms/step - loss: nan - accuracy: 0.3859\n",
            "Epoch 48/50\n",
            "8/8 [==============================] - 2s 305ms/step - loss: nan - accuracy: 0.3859\n",
            "Epoch 49/50\n",
            "8/8 [==============================] - 2s 311ms/step - loss: nan - accuracy: 0.3859\n",
            "Epoch 50/50\n",
            "8/8 [==============================] - 2s 305ms/step - loss: nan - accuracy: 0.3859\n",
            "Model: \"model_3\"\n",
            "_________________________________________________________________\n",
            " Layer (type)                Output Shape              Param #   \n",
            "=================================================================\n",
            " inp_lstm (InputLayer)       [(None, 120, 1550)]       0         \n",
            "                                                                 \n",
            " lstm (LSTM)                 (None, 120, 64)           413440    \n",
            "                                                                 \n",
            " lstm_1 (LSTM)               (None, 32)                12416     \n",
            "                                                                 \n",
            " output (Dense)              (None, 3)                 99        \n",
            "                                                                 \n",
            "=================================================================\n",
            "Total params: 425,955\n",
            "Trainable params: 425,955\n",
            "Non-trainable params: 0\n",
            "_________________________________________________________________\n"
          ]
        }
      ],
      "source": [
        "# LSTM model architecture\n",
        "i_lstm = Input(shape=(timesteps, input_dim), name='inp_lstm')\n",
        "h_lstm = LSTM(units=64, activation='relu', return_sequences=True)(i_lstm)\n",
        "h_lstm = LSTM(units=32, activation='relu')(h_lstm)\n",
        "output_lstm = Dense(num_classes, activation='softmax', name='output')(h_lstm)\n",
        "\n",
        "# Create and compile LSTM model\n",
        "lstm_model = Model(inputs=i_lstm, outputs=output_lstm)\n",
        "lstm_model.compile(optimizer=adamopt, loss='categorical_crossentropy', metrics=['accuracy'])\n",
        "\n",
        "# Train LSTM model\n",
        "lstm_model.fit(train_x, train_y, epochs=50, batch_size=32, verbose=1)\n",
        "lstm_model.summary()"
      ]
    },
    {
      "cell_type": "code",
      "execution_count": 34,
      "metadata": {
        "colab": {
          "base_uri": "https://localhost:8080/",
          "height": 0
        },
        "id": "RGHQYWg4EY6e",
        "outputId": "a23a9b9f-70f0-438b-e32e-53fcc7a0a0a8"
      },
      "outputs": [
        {
          "name": "stdout",
          "output_type": "stream",
          "text": [
            "Epoch 1/50\n",
            "8/8 [==============================] - 3s 241ms/step - loss: 1.9336 - accuracy: 0.3527\n",
            "Epoch 2/50\n",
            "8/8 [==============================] - 3s 353ms/step - loss: 1.2512 - accuracy: 0.4232\n",
            "Epoch 3/50\n",
            "8/8 [==============================] - 3s 433ms/step - loss: 1.3769 - accuracy: 0.5145\n",
            "Epoch 4/50\n",
            "8/8 [==============================] - 4s 437ms/step - loss: 1.1161 - accuracy: 0.5809\n",
            "Epoch 5/50\n",
            "8/8 [==============================] - 3s 320ms/step - loss: 0.8711 - accuracy: 0.6058\n",
            "Epoch 6/50\n",
            "8/8 [==============================] - 2s 234ms/step - loss: 0.8403 - accuracy: 0.6473\n",
            "Epoch 7/50\n",
            "8/8 [==============================] - 2s 230ms/step - loss: 0.6731 - accuracy: 0.7220\n",
            "Epoch 8/50\n",
            "8/8 [==============================] - 2s 234ms/step - loss: 0.7084 - accuracy: 0.6929\n",
            "Epoch 9/50\n",
            "8/8 [==============================] - 2s 236ms/step - loss: 0.6718 - accuracy: 0.7344\n",
            "Epoch 10/50\n",
            "8/8 [==============================] - 2s 267ms/step - loss: 0.5613 - accuracy: 0.7967\n",
            "Epoch 11/50\n",
            "8/8 [==============================] - 4s 437ms/step - loss: 0.4953 - accuracy: 0.7884\n",
            "Epoch 12/50\n",
            "8/8 [==============================] - 3s 420ms/step - loss: 0.4630 - accuracy: 0.8174\n",
            "Epoch 13/50\n",
            "8/8 [==============================] - 3s 367ms/step - loss: 0.3688 - accuracy: 0.8921\n",
            "Epoch 14/50\n",
            "8/8 [==============================] - 2s 229ms/step - loss: 0.3776 - accuracy: 0.8548\n",
            "Epoch 15/50\n",
            "8/8 [==============================] - 2s 233ms/step - loss: 0.3674 - accuracy: 0.8921\n",
            "Epoch 16/50\n",
            "8/8 [==============================] - 2s 231ms/step - loss: 0.2746 - accuracy: 0.9419\n",
            "Epoch 17/50\n",
            "8/8 [==============================] - 2s 243ms/step - loss: 0.3014 - accuracy: 0.9087\n",
            "Epoch 18/50\n",
            "8/8 [==============================] - 2s 233ms/step - loss: 0.2550 - accuracy: 0.9295\n",
            "Epoch 19/50\n",
            "8/8 [==============================] - 3s 432ms/step - loss: 0.2527 - accuracy: 0.9212\n",
            "Epoch 20/50\n",
            "8/8 [==============================] - 3s 424ms/step - loss: 0.2434 - accuracy: 0.9461\n",
            "Epoch 21/50\n",
            "8/8 [==============================] - 3s 419ms/step - loss: 0.2314 - accuracy: 0.9170\n",
            "Epoch 22/50\n",
            "8/8 [==============================] - 2s 234ms/step - loss: 0.1999 - accuracy: 0.9585\n",
            "Epoch 23/50\n",
            "8/8 [==============================] - 2s 233ms/step - loss: 0.1780 - accuracy: 0.9627\n",
            "Epoch 24/50\n",
            "8/8 [==============================] - 2s 234ms/step - loss: 0.1625 - accuracy: 0.9668\n",
            "Epoch 25/50\n",
            "8/8 [==============================] - 2s 235ms/step - loss: 0.1794 - accuracy: 0.9627\n",
            "Epoch 26/50\n",
            "8/8 [==============================] - 2s 240ms/step - loss: 0.1563 - accuracy: 0.9710\n",
            "Epoch 27/50\n",
            "8/8 [==============================] - 3s 413ms/step - loss: 0.1675 - accuracy: 0.9668\n",
            "Epoch 28/50\n",
            "8/8 [==============================] - 3s 425ms/step - loss: 0.1521 - accuracy: 0.9668\n",
            "Epoch 29/50\n",
            "8/8 [==============================] - 3s 425ms/step - loss: 0.1551 - accuracy: 0.9710\n",
            "Epoch 30/50\n",
            "8/8 [==============================] - 2s 239ms/step - loss: 0.1447 - accuracy: 0.9668\n",
            "Epoch 31/50\n",
            "8/8 [==============================] - 2s 235ms/step - loss: 0.1178 - accuracy: 0.9793\n",
            "Epoch 32/50\n",
            "8/8 [==============================] - 2s 234ms/step - loss: 0.1094 - accuracy: 0.9917\n",
            "Epoch 33/50\n",
            "8/8 [==============================] - 2s 233ms/step - loss: 0.1285 - accuracy: 0.9751\n",
            "Epoch 34/50\n",
            "8/8 [==============================] - 2s 233ms/step - loss: 0.1110 - accuracy: 0.9710\n",
            "Epoch 35/50\n",
            "8/8 [==============================] - 3s 331ms/step - loss: 0.0913 - accuracy: 0.9917\n",
            "Epoch 36/50\n",
            "8/8 [==============================] - 3s 427ms/step - loss: 0.0671 - accuracy: 1.0000\n",
            "Epoch 37/50\n",
            "8/8 [==============================] - 3s 413ms/step - loss: 0.1064 - accuracy: 0.9959\n",
            "Epoch 38/50\n",
            "8/8 [==============================] - 3s 308ms/step - loss: 0.0986 - accuracy: 0.9876\n",
            "Epoch 39/50\n",
            "8/8 [==============================] - 2s 229ms/step - loss: 0.0822 - accuracy: 0.9876\n",
            "Epoch 40/50\n",
            "8/8 [==============================] - 2s 233ms/step - loss: 0.0790 - accuracy: 0.9959\n",
            "Epoch 41/50\n",
            "8/8 [==============================] - 2s 234ms/step - loss: 0.0723 - accuracy: 0.9876\n",
            "Epoch 42/50\n",
            "8/8 [==============================] - 2s 237ms/step - loss: 0.0747 - accuracy: 1.0000\n",
            "Epoch 43/50\n",
            "8/8 [==============================] - 2s 271ms/step - loss: 0.0857 - accuracy: 0.9876\n",
            "Epoch 44/50\n",
            "8/8 [==============================] - 4s 434ms/step - loss: 0.0798 - accuracy: 0.9959\n",
            "Epoch 45/50\n",
            "8/8 [==============================] - 3s 421ms/step - loss: 0.0556 - accuracy: 0.9959\n",
            "Epoch 46/50\n",
            "8/8 [==============================] - 3s 355ms/step - loss: 0.0481 - accuracy: 1.0000\n",
            "Epoch 47/50\n",
            "8/8 [==============================] - 2s 231ms/step - loss: 0.0671 - accuracy: 0.9917\n",
            "Epoch 48/50\n",
            "8/8 [==============================] - 2s 230ms/step - loss: 0.0495 - accuracy: 1.0000\n",
            "Epoch 49/50\n",
            "8/8 [==============================] - 2s 238ms/step - loss: 0.0544 - accuracy: 1.0000\n",
            "Epoch 50/50\n",
            "8/8 [==============================] - 2s 233ms/step - loss: 0.0490 - accuracy: 1.0000\n",
            "Model: \"model_4\"\n",
            "_________________________________________________________________\n",
            " Layer (type)                Output Shape              Param #   \n",
            "=================================================================\n",
            " inp_tcn (InputLayer)        [(None, 120, 1550)]       0         \n",
            "                                                                 \n",
            " tcn (TCN)                   (None, 120, 50)           347850    \n",
            "                                                                 \n",
            " flt (Flatten)               (None, 6000)              0         \n",
            "                                                                 \n",
            " drp1 (Dropout)              (None, 6000)              0         \n",
            "                                                                 \n",
            " output (Dense)              (None, 3)                 18003     \n",
            "                                                                 \n",
            "=================================================================\n",
            "Total params: 365,853\n",
            "Trainable params: 365,853\n",
            "Non-trainable params: 0\n",
            "_________________________________________________________________\n"
          ]
        }
      ],
      "source": [
        "i_tcn = Input(shape=(timesteps, input_dim), name='inp_tcn')\n",
        "h_tcn = TCN(return_sequences=True, nb_filters=50, kernel_size=3, kernel_initializer=krl_init,\n",
        "            nb_stacks=1, padding='causal', dilations=[1, 2, 4], activation='relu')(i_tcn)\n",
        "h_tcn = Flatten(name='flt')(h_tcn)\n",
        "h_tcn = Dropout(0.5, name='drp1')(h_tcn)\n",
        "output_tcn = Dense(num_classes, activation='softmax', name='output')(h_tcn)\n",
        "\n",
        "# Create and compile TCN model\n",
        "tcn_model = Model(inputs=i_tcn, outputs=output_tcn)\n",
        "adamopt = Adam(learning_rate=0.0001)\n",
        "tcn_model.compile(optimizer=adamopt, loss='categorical_crossentropy', metrics=['accuracy'])\n",
        "\n",
        "# Train TCN model\n",
        "tcn_model.fit(train_x, train_y, epochs=50, batch_size=32, verbose=1)\n",
        "tcn_model.summary()"
      ]
    },
    {
      "cell_type": "code",
      "execution_count": 35,
      "metadata": {
        "colab": {
          "base_uri": "https://localhost:8080/",
          "height": 2553
        },
        "id": "ZJxvzQYtVSdM",
        "outputId": "1986034b-617f-447d-f57a-68707c143d4d"
      },
      "outputs": [
        {
          "name": "stdout",
          "output_type": "stream",
          "text": [
            "4/4 [==============================] - 2s 512ms/step\n",
            "4/4 [==============================] - 1s 81ms/step\n",
            "4/4 [==============================] - 1s 187ms/step\n",
            "4/4 [==============================] - 1s 87ms/step\n"
          ]
        },
        {
          "data": {
            "image/png": "[encoded data removed]",
            "text/plain": [
              "<Figure size 1000x600 with 1 Axes>"
            ]
          },
          "metadata": {},
          "output_type": "display_data"
        },
        {
          "data": {
            "image/png": "[encoded data removed]",
            "text/plain": [
              "<Figure size 800x600 with 2 Axes>"
            ]
          },
          "metadata": {},
          "output_type": "display_data"
        },
        {
          "data": {
            "image/png": "[encoded data removed]",
            "text/plain": [
              "<Figure size 800x600 with 2 Axes>"
            ]
          },
          "metadata": {},
          "output_type": "display_data"
        },
        {
          "data": {
            "image/png": "[encoded data removed]",
            "text/plain": [
              "<Figure size 800x600 with 2 Axes>"
            ]
          },
          "metadata": {},
          "output_type": "display_data"
        },
        {
          "data": {
            "image/png": "[encoded data removed]",
            "text/plain": [
              "<Figure size 800x600 with 2 Axes>"
            ]
          },
          "metadata": {},
          "output_type": "display_data"
        }
      ],
      "source": [
        "#for i in range(test_x.shape[0]):\n",
        "#    test_x[i] = scaler.transform(test_x[i])\n",
        "\n",
        "test_x = np.expand_dims(test_x, axis=-1)\n",
        "\n",
        "# Make predictions using the models\n",
        "cnn_predictions = np.argmax(cnn_model.predict(test_x), axis=-1)\n",
        "rnn_predictions = np.argmax(rnn_model.predict(test_x), axis=-1)\n",
        "lstm_predictions = np.argmax(lstm_model.predict(test_x), axis=-1)\n",
        "tcn_predictions = np.argmax(tcn_model.predict(test_x), axis=-1)\n",
        "\n",
        "# Compare accuracies\n",
        "model_names = ['CNN', 'RNN', 'LSTM', 'TCN']\n",
        "accuracies = [accuracy_score(test_y, cnn_predictions),\n",
        "              accuracy_score(test_y, rnn_predictions),\n",
        "              accuracy_score(test_y, lstm_predictions),\n",
        "              accuracy_score(test_y, tcn_predictions)]\n",
        "\n",
        "# Plotting the comparison\n",
        "plt.figure(figsize=(10, 6))\n",
        "sns.barplot(x=accuracies, y=model_names)\n",
        "plt.xlabel('Accuracy')\n",
        "plt.ylabel('Model')\n",
        "plt.title('Model Comparison - Accuracy')\n",
        "plt.show()\n",
        "\n",
        "# Confusion matrix for CNN\n",
        "conf_matrix_cnn = confusion_matrix(test_y, cnn_predictions)\n",
        "plt.figure(figsize=(8,6))\n",
        "sns.heatmap(conf_matrix_cnn, annot=True, cmap='Blues', fmt='d')\n",
        "plt.xlabel('Predicted')\n",
        "plt.ylabel('Actual')\n",
        "plt.title('Confusion Matrix - CNN')\n",
        "plt.show()\n",
        "\n",
        "conf_matrix_rnn= confusion_matrix(test_y, rnn_predictions)\n",
        "plt.figure(figsize=(8,6))\n",
        "sns.heatmap(conf_matrix_rnn, annot=True, cmap='Blues', fmt='d')\n",
        "plt.xlabel('Predicted')\n",
        "plt.ylabel('Actual')\n",
        "plt.title('Confusion Matrix - RNN')\n",
        "plt.show()\n",
        "\n",
        "conf_matrix_lstm = confusion_matrix(test_y, lstm_predictions)\n",
        "plt.figure(figsize=(8,6))\n",
        "sns.heatmap(conf_matrix_lstm, annot=True, cmap='Blues', fmt='d')\n",
        "plt.xlabel('Predicted')\n",
        "plt.ylabel('Actual')\n",
        "plt.title('Confusion Matrix - LSTM')\n",
        "plt.show()\n",
        "\n",
        "conf_matrix_tcn = confusion_matrix(test_y, tcn_predictions)\n",
        "plt.figure(figsize=(8,6))\n",
        "sns.heatmap(conf_matrix_tcn, annot=True, cmap='Blues', fmt='d')\n",
        "plt.xlabel('Predicted')\n",
        "plt.ylabel('Actual')\n",
        "plt.title('Confusion Matrix - TCN')\n",
        "plt.show()\n"
      ]
    },
    {
      "cell_type": "code",
      "execution_count": 36,
      "metadata": {
        "colab": {
          "base_uri": "https://localhost:8080/",
          "height": 0
        },
        "id": "TKz99OHYVdE6",
        "outputId": "a20e6e27-074a-46c2-9c6d-3055bd24758f"
      },
      "outputs": [
        {
          "name": "stdout",
          "output_type": "stream",
          "text": [
            "              precision    recall  f1-score   support\n",
            "\n",
            "           0       0.39      0.62      0.48        39\n",
            "           1       0.32      0.13      0.18        46\n",
            "           2       0.32      0.35      0.33        34\n",
            "\n",
            "    accuracy                           0.35       119\n",
            "   macro avg       0.34      0.37      0.33       119\n",
            "weighted avg       0.34      0.35      0.32       119\n",
            "\n"
          ]
        }
      ],
      "source": [
        "print(classification_report(test_y, cnn_predictions))"
      ]
    },
    {
      "cell_type": "code",
      "execution_count": 37,
      "metadata": {
        "colab": {
          "base_uri": "https://localhost:8080/",
          "height": 0
        },
        "id": "FM-nxbW0phzn",
        "outputId": "6521a662-3fbd-4770-a568-d398a52c04b0"
      },
      "outputs": [
        {
          "name": "stdout",
          "output_type": "stream",
          "text": [
            "              precision    recall  f1-score   support\n",
            "\n",
            "           0       0.50      0.13      0.20        39\n",
            "           1       0.40      0.89      0.55        46\n",
            "           2       0.17      0.03      0.05        34\n",
            "\n",
            "    accuracy                           0.39       119\n",
            "   macro avg       0.35      0.35      0.27       119\n",
            "weighted avg       0.37      0.39      0.29       119\n",
            "\n"
          ]
        }
      ],
      "source": [
        "print(classification_report(test_y, rnn_predictions))"
      ]
    },
    {
      "cell_type": "code",
      "execution_count": 38,
      "metadata": {
        "colab": {
          "base_uri": "https://localhost:8080/",
          "height": 0
        },
        "id": "4yx0Phu1pi6z",
        "outputId": "c4106ff5-8676-4381-b06b-3c32eb259ab5"
      },
      "outputs": [
        {
          "name": "stdout",
          "output_type": "stream",
          "text": [
            "              precision    recall  f1-score   support\n",
            "\n",
            "           0       0.33      1.00      0.49        39\n",
            "           1       0.00      0.00      0.00        46\n",
            "           2       0.00      0.00      0.00        34\n",
            "\n",
            "    accuracy                           0.33       119\n",
            "   macro avg       0.11      0.33      0.16       119\n",
            "weighted avg       0.11      0.33      0.16       119\n",
            "\n"
          ]
        },
        {
          "name": "stderr",
          "output_type": "stream",
          "text": [
            "/usr/local/lib/python3.10/dist-packages/sklearn/metrics/_classification.py:1344: UndefinedMetricWarning: Precision and F-score are ill-defined and being set to 0.0 in labels with no predicted samples. Use `zero_division` parameter to control this behavior.\n",
            "  _warn_prf(average, modifier, msg_start, len(result))\n",
            "/usr/local/lib/python3.10/dist-packages/sklearn/metrics/_classification.py:1344: UndefinedMetricWarning: Precision and F-score are ill-defined and being set to 0.0 in labels with no predicted samples. Use `zero_division` parameter to control this behavior.\n",
            "  _warn_prf(average, modifier, msg_start, len(result))\n",
            "/usr/local/lib/python3.10/dist-packages/sklearn/metrics/_classification.py:1344: UndefinedMetricWarning: Precision and F-score are ill-defined and being set to 0.0 in labels with no predicted samples. Use `zero_division` parameter to control this behavior.\n",
            "  _warn_prf(average, modifier, msg_start, len(result))\n"
          ]
        }
      ],
      "source": [
        "print(classification_report(test_y, lstm_predictions))"
      ]
    },
    {
      "cell_type": "code",
      "execution_count": 39,
      "metadata": {
        "colab": {
          "base_uri": "https://localhost:8080/",
          "height": 0
        },
        "id": "zqPA8PiLpkcV",
        "outputId": "780295ba-28ad-46e1-9e9f-523191b87a63"
      },
      "outputs": [
        {
          "name": "stdout",
          "output_type": "stream",
          "text": [
            "              precision    recall  f1-score   support\n",
            "\n",
            "           0       0.43      0.51      0.47        39\n",
            "           1       0.45      0.37      0.40        46\n",
            "           2       0.26      0.26      0.26        34\n",
            "\n",
            "    accuracy                           0.39       119\n",
            "   macro avg       0.38      0.38      0.38       119\n",
            "weighted avg       0.39      0.39      0.38       119\n",
            "\n"
          ]
        }
      ],
      "source": [
        "print(classification_report(test_y, tcn_predictions))"
      ]
    }
  ],
  "metadata": {
    "accelerator": "TPU",
    "colab": {
      "provenance": []
    },
    "kernelspec": {
      "display_name": "Python 3",
      "name": "python3"
    },
    "language_info": {
      "name": "python"
    }
  },
  "nbformat": 4,
  "nbformat_minor": 0
}
