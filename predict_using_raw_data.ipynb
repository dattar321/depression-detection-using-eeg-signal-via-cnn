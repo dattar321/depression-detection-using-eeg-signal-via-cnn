{
  "cells": [
    {
      "cell_type": "code",
      "execution_count": null,
      "metadata": {
        "colab": {
          "base_uri": "https://localhost:8080/"
        },
        "id": "m_IBKXc9E9U5",
        "outputId": "44664554-648b-4cfd-801e-6b2fb8f0c14c"
      },
      "outputs": [
        {
          "output_type": "stream",
          "name": "stdout",
          "text": [
            "Drive already mounted at /content/drive; to attempt to forcibly remount, call drive.mount(\"/content/drive\", force_remount=True).\n"
          ]
        }
      ],
      "source": [
        "from google.colab import drive\n",
        "drive.mount('/content/drive')"
      ]
    },
    {
      "cell_type": "code",
      "execution_count": null,
      "metadata": {
        "id": "wzi5-h9wJ41b",
        "colab": {
          "base_uri": "https://localhost:8080/"
        },
        "outputId": "bea305e3-942f-4128-cc4e-07a7270876d0"
      },
      "outputs": [
        {
          "output_type": "stream",
          "name": "stdout",
          "text": [
            "Requirement already satisfied: mne in /usr/local/lib/python3.10/dist-packages (1.5.0)\n",
            "Requirement already satisfied: numpy>=1.15.4 in /usr/local/lib/python3.10/dist-packages (from mne) (1.23.5)\n",
            "Requirement already satisfied: scipy>=1.6.3 in /usr/local/lib/python3.10/dist-packages (from mne) (1.10.1)\n",
            "Requirement already satisfied: matplotlib>=3.4.0 in /usr/local/lib/python3.10/dist-packages (from mne) (3.7.1)\n",
            "Requirement already satisfied: tqdm in /usr/local/lib/python3.10/dist-packages (from mne) (4.66.1)\n",
            "Requirement already satisfied: pooch>=1.5 in /usr/local/lib/python3.10/dist-packages (from mne) (1.6.0)\n",
            "Requirement already satisfied: decorator in /usr/local/lib/python3.10/dist-packages (from mne) (4.4.2)\n",
            "Requirement already satisfied: packaging in /usr/local/lib/python3.10/dist-packages (from mne) (23.1)\n",
            "Requirement already satisfied: jinja2 in /usr/local/lib/python3.10/dist-packages (from mne) (3.1.2)\n",
            "Requirement already satisfied: contourpy>=1.0.1 in /usr/local/lib/python3.10/dist-packages (from matplotlib>=3.4.0->mne) (1.1.0)\n",
            "Requirement already satisfied: cycler>=0.10 in /usr/local/lib/python3.10/dist-packages (from matplotlib>=3.4.0->mne) (0.11.0)\n",
            "Requirement already satisfied: fonttools>=4.22.0 in /usr/local/lib/python3.10/dist-packages (from matplotlib>=3.4.0->mne) (4.42.0)\n",
            "Requirement already satisfied: kiwisolver>=1.0.1 in /usr/local/lib/python3.10/dist-packages (from matplotlib>=3.4.0->mne) (1.4.4)\n",
            "Requirement already satisfied: pillow>=6.2.0 in /usr/local/lib/python3.10/dist-packages (from matplotlib>=3.4.0->mne) (9.4.0)\n",
            "Requirement already satisfied: pyparsing>=2.3.1 in /usr/local/lib/python3.10/dist-packages (from matplotlib>=3.4.0->mne) (3.1.1)\n",
            "Requirement already satisfied: python-dateutil>=2.7 in /usr/local/lib/python3.10/dist-packages (from matplotlib>=3.4.0->mne) (2.8.2)\n",
            "Requirement already satisfied: appdirs>=1.3.0 in /usr/local/lib/python3.10/dist-packages (from pooch>=1.5->mne) (1.4.4)\n",
            "Requirement already satisfied: requests>=2.19.0 in /usr/local/lib/python3.10/dist-packages (from pooch>=1.5->mne) (2.31.0)\n",
            "Requirement already satisfied: MarkupSafe>=2.0 in /usr/local/lib/python3.10/dist-packages (from jinja2->mne) (2.1.3)\n",
            "Requirement already satisfied: six>=1.5 in /usr/local/lib/python3.10/dist-packages (from python-dateutil>=2.7->matplotlib>=3.4.0->mne) (1.16.0)\n",
            "Requirement already satisfied: charset-normalizer<4,>=2 in /usr/local/lib/python3.10/dist-packages (from requests>=2.19.0->pooch>=1.5->mne) (3.2.0)\n",
            "Requirement already satisfied: idna<4,>=2.5 in /usr/local/lib/python3.10/dist-packages (from requests>=2.19.0->pooch>=1.5->mne) (3.4)\n",
            "Requirement already satisfied: urllib3<3,>=1.21.1 in /usr/local/lib/python3.10/dist-packages (from requests>=2.19.0->pooch>=1.5->mne) (2.0.4)\n",
            "Requirement already satisfied: certifi>=2017.4.17 in /usr/local/lib/python3.10/dist-packages (from requests>=2.19.0->pooch>=1.5->mne) (2023.7.22)\n",
            "Reading package lists... Done\n",
            "Building dependency tree... Done\n",
            "Reading state information... Done\n",
            "octave is already the newest version (6.4.0-2).\n",
            "0 upgraded, 0 newly installed, 0 to remove and 16 not upgraded.\n",
            "Requirement already satisfied: oct2py in /usr/local/lib/python3.10/dist-packages (5.6.0)\n",
            "Requirement already satisfied: numpy>=1.12 in /usr/local/lib/python3.10/dist-packages (from oct2py) (1.23.5)\n",
            "Requirement already satisfied: octave-kernel>=0.34.0 in /usr/local/lib/python3.10/dist-packages (from oct2py) (0.35.1)\n",
            "Requirement already satisfied: scipy>=0.17 in /usr/local/lib/python3.10/dist-packages (from oct2py) (1.10.1)\n",
            "Requirement already satisfied: ipykernel in /usr/local/lib/python3.10/dist-packages (from octave-kernel>=0.34.0->oct2py) (5.5.6)\n",
            "Requirement already satisfied: jupyter-client>=4.3.0 in /usr/local/lib/python3.10/dist-packages (from octave-kernel>=0.34.0->oct2py) (6.1.12)\n",
            "Requirement already satisfied: metakernel>=0.24.0 in /usr/local/lib/python3.10/dist-packages (from octave-kernel>=0.34.0->oct2py) (0.29.5)\n",
            "Requirement already satisfied: traitlets in /usr/local/lib/python3.10/dist-packages (from jupyter-client>=4.3.0->octave-kernel>=0.34.0->oct2py) (5.7.1)\n",
            "Requirement already satisfied: jupyter-core>=4.6.0 in /usr/local/lib/python3.10/dist-packages (from jupyter-client>=4.3.0->octave-kernel>=0.34.0->oct2py) (5.3.1)\n",
            "Requirement already satisfied: pyzmq>=13 in /usr/local/lib/python3.10/dist-packages (from jupyter-client>=4.3.0->octave-kernel>=0.34.0->oct2py) (23.2.1)\n",
            "Requirement already satisfied: python-dateutil>=2.1 in /usr/local/lib/python3.10/dist-packages (from jupyter-client>=4.3.0->octave-kernel>=0.34.0->oct2py) (2.8.2)\n",
            "Requirement already satisfied: tornado>=4.1 in /usr/local/lib/python3.10/dist-packages (from jupyter-client>=4.3.0->octave-kernel>=0.34.0->oct2py) (6.3.2)\n",
            "Requirement already satisfied: jedi>=0.18 in /usr/local/lib/python3.10/dist-packages (from metakernel>=0.24.0->octave-kernel>=0.34.0->oct2py) (0.19.0)\n",
            "Requirement already satisfied: pexpect>=4.8 in /usr/local/lib/python3.10/dist-packages (from metakernel>=0.24.0->octave-kernel>=0.34.0->oct2py) (4.8.0)\n",
            "Requirement already satisfied: ipython-genutils in /usr/local/lib/python3.10/dist-packages (from ipykernel->octave-kernel>=0.34.0->oct2py) (0.2.0)\n",
            "Requirement already satisfied: ipython>=5.0.0 in /usr/local/lib/python3.10/dist-packages (from ipykernel->octave-kernel>=0.34.0->oct2py) (7.34.0)\n",
            "Requirement already satisfied: setuptools>=18.5 in /usr/local/lib/python3.10/dist-packages (from ipython>=5.0.0->ipykernel->octave-kernel>=0.34.0->oct2py) (67.7.2)\n",
            "Requirement already satisfied: decorator in /usr/local/lib/python3.10/dist-packages (from ipython>=5.0.0->ipykernel->octave-kernel>=0.34.0->oct2py) (4.4.2)\n",
            "Requirement already satisfied: pickleshare in /usr/local/lib/python3.10/dist-packages (from ipython>=5.0.0->ipykernel->octave-kernel>=0.34.0->oct2py) (0.7.5)\n",
            "Requirement already satisfied: prompt-toolkit!=3.0.0,!=3.0.1,<3.1.0,>=2.0.0 in /usr/local/lib/python3.10/dist-packages (from ipython>=5.0.0->ipykernel->octave-kernel>=0.34.0->oct2py) (3.0.39)\n",
            "Requirement already satisfied: pygments in /usr/local/lib/python3.10/dist-packages (from ipython>=5.0.0->ipykernel->octave-kernel>=0.34.0->oct2py) (2.16.1)\n",
            "Requirement already satisfied: backcall in /usr/local/lib/python3.10/dist-packages (from ipython>=5.0.0->ipykernel->octave-kernel>=0.34.0->oct2py) (0.2.0)\n",
            "Requirement already satisfied: matplotlib-inline in /usr/local/lib/python3.10/dist-packages (from ipython>=5.0.0->ipykernel->octave-kernel>=0.34.0->oct2py) (0.1.6)\n",
            "Requirement already satisfied: parso<0.9.0,>=0.8.3 in /usr/local/lib/python3.10/dist-packages (from jedi>=0.18->metakernel>=0.24.0->octave-kernel>=0.34.0->oct2py) (0.8.3)\n",
            "Requirement already satisfied: platformdirs>=2.5 in /usr/local/lib/python3.10/dist-packages (from jupyter-core>=4.6.0->jupyter-client>=4.3.0->octave-kernel>=0.34.0->oct2py) (3.10.0)\n",
            "Requirement already satisfied: ptyprocess>=0.5 in /usr/local/lib/python3.10/dist-packages (from pexpect>=4.8->metakernel>=0.24.0->octave-kernel>=0.34.0->oct2py) (0.7.0)\n",
            "Requirement already satisfied: six>=1.5 in /usr/local/lib/python3.10/dist-packages (from python-dateutil>=2.1->jupyter-client>=4.3.0->octave-kernel>=0.34.0->oct2py) (1.16.0)\n",
            "Requirement already satisfied: wcwidth in /usr/local/lib/python3.10/dist-packages (from prompt-toolkit!=3.0.0,!=3.0.1,<3.1.0,>=2.0.0->ipython>=5.0.0->ipykernel->octave-kernel>=0.34.0->oct2py) (0.2.6)\n",
            "fatal: destination path 'eeglab' already exists and is not an empty directory.\n",
            "fatal: destination path 'eeglab' already exists and is not an empty directory.\n"
          ]
        }
      ],
      "source": [
        "!pip install mne\n",
        "!apt-get install octave\n",
        "!pip install oct2py\n",
        "%load_ext oct2py.ipython\n",
        "!git clone https://github.com/sccn/eeglab.git\n",
        "!git clone --recurse-submodules https://github.com/sccn/eeglab.git"
      ]
    },
    {
      "cell_type": "code",
      "source": [
        "!pip install -q keras-tcn\n",
        "!pip install keras\n",
        "!pip install scikit-learn"
      ],
      "metadata": {
        "colab": {
          "base_uri": "https://localhost:8080/"
        },
        "id": "nSFqjflSWNLN",
        "outputId": "09a187e3-301a-41d7-dcc9-d39aadd12972"
      },
      "execution_count": null,
      "outputs": [
        {
          "output_type": "stream",
          "name": "stdout",
          "text": [
            "Requirement already satisfied: keras in /usr/local/lib/python3.10/dist-packages (2.12.0)\n",
            "Requirement already satisfied: scikit-learn in /usr/local/lib/python3.10/dist-packages (1.2.2)\n",
            "Requirement already satisfied: numpy>=1.17.3 in /usr/local/lib/python3.10/dist-packages (from scikit-learn) (1.23.5)\n",
            "Requirement already satisfied: scipy>=1.3.2 in /usr/local/lib/python3.10/dist-packages (from scikit-learn) (1.10.1)\n",
            "Requirement already satisfied: joblib>=1.1.1 in /usr/local/lib/python3.10/dist-packages (from scikit-learn) (1.3.2)\n",
            "Requirement already satisfied: threadpoolctl>=2.0.0 in /usr/local/lib/python3.10/dist-packages (from scikit-learn) (3.2.0)\n"
          ]
        }
      ]
    },
    {
      "cell_type": "code",
      "source": [
        "import numpy as np\n",
        "import pandas as pd\n",
        "import scipy\n",
        "from oct2py import octave\n",
        "import mne\n",
        "import h5py\n",
        "from tqdm import tqdm\n",
        "import os"
      ],
      "metadata": {
        "id": "2onqQm84Xl5M"
      },
      "execution_count": null,
      "outputs": []
    },
    {
      "cell_type": "code",
      "execution_count": null,
      "metadata": {
        "id": "1b4hQ-oYOPRD"
      },
      "outputs": [],
      "source": [
        "octave.addpath('/content/eeglab/functions/adminfunc');\n",
        "octave.addpath('/content/eeglab/functions/popfunc');\n",
        "octave.addpath('/content/eeglab/functions/adminfunc');\n",
        "octave.addpath('/content/eeglab/functions/sigprocfunc');\n",
        "octave.addpath('/content/eeglab/functions/miscfunc');\n",
        "octave.addpath('/content/eeglab/functions/statistics');\n",
        "octave.addpath('/content/eeglab/functions/studyfunc');\n",
        "octave.addpath('/content/eeglab/functions/supportfiles');\n",
        "octave.addpath('/content/eeglab/functions/timefreqfunc');"
      ]
    },
    {
      "cell_type": "markdown",
      "metadata": {
        "id": "53OPf6S5--B3"
      },
      "source": [
        "# **Data preparation**"
      ]
    },
    {
      "cell_type": "code",
      "execution_count": null,
      "metadata": {
        "id": "R65a8XwpLPfl"
      },
      "outputs": [],
      "source": [
        "def events_seperation(matData, events):\n",
        "\n",
        "\t\t\"\"\"\"\n",
        "\t\tevent -> 0 - type\n",
        "\t\t\t\t\t\t 1 - latency\n",
        "\t\t\t\t\t\t 2 - urevent\n",
        "\t\t\"\"\"\n",
        "\t\tlen = matData['EEG']['event'][0][0][0].shape[0]\n",
        "\n",
        "\t\t#events = matData['event']['type'][0]\n",
        "\t\t#events = matData['EEG']['event'][0][0]\n",
        "\t\tk = []\n",
        "\t\tfor x in range(len):\n",
        "\t\t\tk.append(matData['EEG']['event'][0][0][0][x][0][0])\n",
        "\t\tevents = np.array(k)\n",
        "\n",
        "\t\t#latency = matData['event']['latency'][0].astype(int)\n",
        "\t\t#latency = matData['EEG']['event'][1][0].astype(int)\n",
        "\n",
        "\t\tk = []\n",
        "\t\tfor x in range(len):\n",
        "\t\t\tk.append(matData['EEG']['event'][0][0][0][x][1][0][0])\n",
        "\t\tlatency = np.array(k)\n",
        "\n",
        "\t\tdata = matData['EEG']['data'][0][0]\n",
        "\n",
        "\n",
        "\t\tseperated_data = np.zeros((data.shape[0], 1))\n",
        "\t\tmaxI = events.shape[0]\n",
        "\n",
        "\t\tfor i in range(maxI):\n",
        "\t\t\t\tif (events[i] in events) or (events[i] in np.array(events).astype(int)):\n",
        "\t\t\t\t\t\ttmin = latency[i]-1\n",
        "\t\t\t\t\t\tif i == maxI-1:\n",
        "\t\t\t\t\t\t\t\ttmax = data.shape[1]\n",
        "\t\t\t\t\t\telse:\n",
        "\t\t\t\t\t\t\t\ttmax = latency[i+1]-1\n",
        "\t\t\t\t\t\tseperated_data = np.append(seperated_data, data[:, tmin:tmax], axis=1)\n",
        "\t\tseperated_data = np.delete(seperated_data, 0, 1)\n",
        "\t\treturn seperated_data"
      ]
    },
    {
      "cell_type": "code",
      "execution_count": null,
      "metadata": {
        "id": "o8j5JjKpLIjd"
      },
      "outputs": [],
      "source": [
        "def prepare_sources(item, matPathBase, events):\n",
        "    matName = f'{item}_Depression_REST'\n",
        "    matItem = matPathBase + matName + '.mat'\n",
        "    matData = scipy.io.loadmat(matItem)\n",
        "    seperated_data = events_seperation(matData, events)\n",
        "\n",
        "    matData['EEG']['times'][0][0] = np.empty(0)\n",
        "    matData['EEG']['urevent'][0][0] = np.empty(0)\n",
        "    matData['EEG']['event'][0][0] = np.empty(0)\n",
        "\n",
        "    setItem = f'{item}.set'\n",
        "    matData['EEG']['data'][0][0] = seperated_data\n",
        "    matData['EEG']['pnts'] = float(seperated_data.shape[1])\n",
        "    temp = octave.eeg_checkset(matData)\n",
        "    scipy.io.savemat(setItem,temp)\n",
        "    #octave.pop_saveset(temp, filename=str(item)+'.set', check='on',\n",
        "    #                 filepath=setPathBase, savemode='onefile');\n"
      ]
    },
    {
      "cell_type": "code",
      "execution_count": null,
      "metadata": {
        "id": "bPgn4ccbLXB0"
      },
      "outputs": [],
      "source": [
        "def process_signal(raw):\n",
        "\t\t## Set reference\n",
        "\t\traw.set_eeg_reference(ref_channels=['M1', 'M2'])\n",
        "\n",
        "\t\t## Drop Bad Channels\n",
        "\t\traw.drop_channels([x for x in ['CB1', 'CB2', 'EKG', 'HEOG', 'VEOG'] if x in raw.ch_names])\n",
        "\n",
        "\t\t## Remove Baseline\n",
        "\t\traw._data = mne.baseline.rescale(raw.get_data(), raw.times, (None, None))\n",
        "\n",
        "\t\t## Apply notch filter\n",
        "\t\traw.notch_filter(50)\n",
        "\n",
        "\t\t## Apply Frequency Band Filter\n",
        "\t\traw.filter(0.2, 45, method='iir', verbose='WARNING')\n",
        "\n",
        "\t\t## Apply Butter Filter\n",
        "\t\tlowcut = 1.0\n",
        "\t\thighcut = 50.0\n",
        "\t\torder = 5\n",
        "\t\tnyq = 0.5 * raw.info['sfreq']\n",
        "\t\tlow = lowcut / nyq\n",
        "\t\thigh = highcut / nyq\n",
        "\t\tb, a = scipy.signal.butter(order, [low, high], btype='band')\n",
        "\t\traw._data = scipy.signal.lfilter(b, a, raw.get_data())\n",
        "\n",
        "\t\t## Apply ICA Decomposition\n",
        "\t\tica = mne.preprocessing.ICA(max_iter=100, random_state=1)\n",
        "\t\tica.fit(raw)\n",
        "\t\tica.apply(raw)\n",
        "\t\treturn raw\n",
        "\n"
      ]
    },
    {
      "cell_type": "code",
      "execution_count": null,
      "metadata": {
        "id": "lB7oB1YbLcZ8"
      },
      "outputs": [],
      "source": [
        "def windowing(x, y, win_size, bias):\n",
        "\t\twindowed_x = []\n",
        "\t\twindow_labels = []\n",
        "\t\tfor i in range(0, x.shape[0], bias):\n",
        "\t\t\t\ttemp = x[i:i+win_size, :]\n",
        "\t\t\t\tif temp.shape[0]==win_size:\n",
        "\t\t\t\t\t\twindowed_x.append(temp)\n",
        "\t\t\t\t\t\twindow_labels.append(y)\n",
        "\t\treturn windowed_x, window_labels"
      ]
    },
    {
      "cell_type": "code",
      "execution_count": null,
      "metadata": {
        "id": "qv8Nt3EALjF0"
      },
      "outputs": [],
      "source": [
        "def pad_N_epochs(x,limit):\n",
        "\t\tout = []\n",
        "\t\tfor y in x:\n",
        "\t\t\t\twhile len(y) < limit:\n",
        "\t\t\t\t\t\ty = np.concatenate([y,y[-(limit-len(y)):]])\n",
        "\t\t\t\tout.append(y[:limit])\n",
        "\t\treturn np.array(out)"
      ]
    },
    {
      "cell_type": "code",
      "execution_count": null,
      "metadata": {
        "id": "6DE0rLh0LlLu"
      },
      "outputs": [],
      "source": [
        "def crop_N_epochs(x,limit):\n",
        "\t\treturn np.array([y[:limit] for y in pad_N_epochs(x,limit)])"
      ]
    },
    {
      "cell_type": "code",
      "execution_count": null,
      "metadata": {
        "id": "S9V1WhXKLntd"
      },
      "outputs": [],
      "source": [
        "def preprocess_data(itemNums, labelPath, olp, window_time):\n",
        "\t\tfs = 250\n",
        "\t\twin_size = window_time*fs\n",
        "\t\tbias = int((1.0-olp)*win_size)\n",
        "\t\tseq_len = 60000\n",
        "\t\t# load labels file\n",
        "\t\tlabels_data = pd.ExcelFile(labelPath)\n",
        "\t\tlabels_data = labels_data.parse('Depression Rest')\n",
        "\n",
        "\t\tidx = np.array(range(0,seq_len,2))\n",
        "\t\tdata = []\n",
        "\t\tlabels = []\n",
        "\t\tfor item in tqdm(itemNums):\n",
        "\t\t\t\tsetItem = f'{item}.set'\n",
        "\t\t\t\traw = mne.io.read_raw_eeglab(setItem)\n",
        "\t\t\t\t#delta - .5 - 4\n",
        "\t\t\t\t#theta\n",
        "\t\t\t\t#band = [4,8]\n",
        "\t\t\t\t#alpha\n",
        "\t\t\t\t#band = [8,13]\n",
        "\t\t\t\t#beta\n",
        "\t\t\t\t#band = [13,30]\n",
        "\t\t\t\traw = process_signal(raw)\n",
        "\n",
        "\t\t\t\titem_data = crop_N_epochs(raw._data, seq_len)\n",
        "\t\t\t\titem_data = item_data[:, idx]\n",
        "\t\t\t\titem_data = item_data.reshape(item_data.shape[0], item_data.shape[1])\n",
        "\n",
        "\t\t\t\titem_data = item_data.transpose([1, 0])\n",
        "\t\t\t\titem_label = labels_data[labels_data['id']==item].BDI.values[0]\n",
        "\t\t\t\twindowed_item_data, window_labels = windowing(item_data, item_label, win_size, bias)\n",
        "\t\t\t\tdata.append(windowed_item_data)\n",
        "\t\t\t\tlabels.append(window_labels)\n",
        "\n",
        "\t\tdata = np.concatenate(data)\n",
        "\t\tlabels = np.concatenate(labels).astype('int16').reshape(-1, 1)\n",
        "\t\treturn data, labels"
      ]
    },
    {
      "cell_type": "markdown",
      "source": [
        "#MAIN"
      ],
      "metadata": {
        "id": "qjCvW_xuWuSh"
      }
    },
    {
      "cell_type": "code",
      "source": [
        "\"\"\"\n",
        "itemNums = [*range(507, 512), *range(513, 544), *range(545, 571), *range(573, 629)]\n",
        "#valid_events\n",
        "events = ['1', '2', '3', '4', '5', '6', '11', '12', '13', '14', '15', '16']\n",
        "\n",
        "matPathBase = '/content/drive/MyDrive/Depression Rest/Matlab Files/'\n",
        "setPathBase = '/content/drive/MyDrive/Depression Rest/set_files/'\n",
        "labelPath = '/content/drive/MyDrive/Depression Rest/labels.xlsx'\n",
        "\n",
        "CREATE_SET_FILES = False\n",
        "EVENT_TYPE = 'open_eyes'\n",
        "OVERLAP_RATE = 0.9\n",
        "WINDOW_TIME = 5\n",
        "\"\"\""
      ],
      "metadata": {
        "id": "wOY9XPBGWsMo",
        "colab": {
          "base_uri": "https://localhost:8080/",
          "height": 72
        },
        "outputId": "44080ad3-7ee5-41f7-e020-a8f953fab9c0"
      },
      "execution_count": null,
      "outputs": [
        {
          "output_type": "execute_result",
          "data": {
            "text/plain": [
              "\"\\nitemNums = [*range(507, 512), *range(513, 544), *range(545, 571), *range(573, 629)]\\n#valid_events\\nevents = ['1', '2', '3', '4', '5', '6', '11', '12', '13', '14', '15', '16']\\n\\nmatPathBase = '/content/drive/MyDrive/Depression Rest/Matlab Files/'\\nsetPathBase = '/content/drive/MyDrive/Depression Rest/set_files/'\\nlabelPath = '/content/drive/MyDrive/Depression Rest/labels.xlsx'\\n\\nCREATE_SET_FILES = False\\nEVENT_TYPE = 'open_eyes'\\nOVERLAP_RATE = 0.9\\nWINDOW_TIME = 5\\n\""
            ],
            "application/vnd.google.colaboratory.intrinsic+json": {
              "type": "string"
            }
          },
          "metadata": {},
          "execution_count": 15
        }
      ]
    },
    {
      "cell_type": "code",
      "source": [
        "\"\"\"\n",
        "if CREATE_SET_FILES:\n",
        "\t\tif EVENT_TYPE=='open_eyes':\n",
        "\t\t\t\tevents = ['2', '4', '6', '12', '14', '16']\n",
        "\t\telif EVENT_TYPE=='close_eyes':\n",
        "\t\t\t\tevents = ['1', '3', '5', '11', '13', '15']\n",
        "else:\n",
        "    #raise('undefined event type!')\n",
        "    print('Processing Source (.mat) files, get specified events and converting them to .set files')\n",
        "    for item in tqdm(itemNums):\n",
        "        prepare_sources(item, matPathBase, events)\n",
        "\"\"\""
      ],
      "metadata": {
        "colab": {
          "base_uri": "https://localhost:8080/",
          "height": 72
        },
        "id": "KxXDMAt0Wymz",
        "outputId": "7464721b-1858-4a53-a6d1-f44838b8807f"
      },
      "execution_count": null,
      "outputs": [
        {
          "output_type": "execute_result",
          "data": {
            "text/plain": [
              "\"\\nif CREATE_SET_FILES:\\n\\t\\tif EVENT_TYPE=='open_eyes':\\n\\t\\t\\t\\tevents = ['2', '4', '6', '12', '14', '16']\\n\\t\\telif EVENT_TYPE=='close_eyes':\\n\\t\\t\\t\\tevents = ['1', '3', '5', '11', '13', '15']\\nelse:\\n    #raise('undefined event type!')\\n    print('Processing Source (.mat) files, get specified events and converting them to .set files')\\n    for item in tqdm(itemNums):\\n        prepare_sources(item, matPathBase, events)\\n\""
            ],
            "application/vnd.google.colaboratory.intrinsic+json": {
              "type": "string"
            }
          },
          "metadata": {},
          "execution_count": 16
        }
      ]
    },
    {
      "cell_type": "code",
      "source": [
        "#itemNums = [507,508,513,  566,628,594,  561,565,567]\n",
        "itemNums = [507,514,566,628,594,610,611,561,565,567,569,558,586,515,518,616,509,510,511,513,525,617,622,625,559,590,592]"
      ],
      "metadata": {
        "id": "P3JT6wgB5gY6"
      },
      "execution_count": null,
      "outputs": []
    },
    {
      "cell_type": "code",
      "source": [
        "matPathBase = '/content/drive/MyDrive/Depression Rest/Matlab Files/'\n",
        "setPathBase = '/content/drive/MyDrive/Depression Rest/set_files/'\n",
        "labelPath = '/content/drive/MyDrive/Depression Rest/labels.xlsx'\n",
        "openeyesics = '/content/drive/MyDrive/Depression Rest/open_eyes_ica/'"
      ],
      "metadata": {
        "id": "dRuXpRGihXrf"
      },
      "execution_count": null,
      "outputs": []
    },
    {
      "cell_type": "code",
      "source": [
        "#/content/drive/MyDrive/close_eyes"
      ],
      "metadata": {
        "id": "VNGbPnpihghP"
      },
      "execution_count": null,
      "outputs": []
    },
    {
      "cell_type": "markdown",
      "source": [
        "/content/drive/MyDrive/close_eyes"
      ],
      "metadata": {
        "id": "sDllh43divzy"
      }
    },
    {
      "cell_type": "code",
      "source": [
        "#%cd content/drive/MyDrive/close_eyes"
      ],
      "metadata": {
        "id": "k2RObOeyUViD"
      },
      "execution_count": null,
      "outputs": []
    },
    {
      "cell_type": "code",
      "source": [
        "\"\"\"\n",
        "events = ['1', '3', '5', '11', '13', '15']\n",
        "for item in tqdm(itemNums):\n",
        "    prepare_sources(item, matPathBase, events)\n",
        "\"\"\""
      ],
      "metadata": {
        "id": "FoQCFyvB45hT",
        "colab": {
          "base_uri": "https://localhost:8080/",
          "height": 36
        },
        "outputId": "0ca2112a-9c39-4ba6-c66b-73499dfead31"
      },
      "execution_count": null,
      "outputs": [
        {
          "output_type": "execute_result",
          "data": {
            "text/plain": [
              "\"\\nevents = ['1', '3', '5', '11', '13', '15']\\nfor item in tqdm(itemNums):\\n    prepare_sources(item, matPathBase, events)\\n\""
            ],
            "application/vnd.google.colaboratory.intrinsic+json": {
              "type": "string"
            }
          },
          "metadata": {},
          "execution_count": 21
        }
      ]
    },
    {
      "cell_type": "markdown",
      "source": [
        "/content/drive/MyDrive/open_eyes"
      ],
      "metadata": {
        "id": "H4ah-IASizDd"
      }
    },
    {
      "cell_type": "code",
      "source": [
        "#%cd content/drive/MyDrive/open_eyes"
      ],
      "metadata": {
        "id": "uo45XKrmFC1l"
      },
      "execution_count": null,
      "outputs": []
    },
    {
      "cell_type": "code",
      "source": [
        "\"\"\"\n",
        "events = ['2', '4', '6', '12', '14', '16']\n",
        "for item in tqdm(itemNums):\n",
        "    prepare_sources(item, matPathBase, events)\n",
        "\"\"\""
      ],
      "metadata": {
        "id": "MaLxnoQt5HdW",
        "colab": {
          "base_uri": "https://localhost:8080/",
          "height": 36
        },
        "outputId": "88d3da33-7bbd-4979-dde3-8d00a9efa240"
      },
      "execution_count": null,
      "outputs": [
        {
          "output_type": "execute_result",
          "data": {
            "text/plain": [
              "\"\\nevents = ['2', '4', '6', '12', '14', '16']\\nfor item in tqdm(itemNums):\\n    prepare_sources(item, matPathBase, events)\\n\""
            ],
            "application/vnd.google.colaboratory.intrinsic+json": {
              "type": "string"
            }
          },
          "metadata": {},
          "execution_count": 23
        }
      ]
    },
    {
      "cell_type": "markdown",
      "metadata": {
        "id": "jbJ5-tup_RG8"
      },
      "source": [
        "# **Model Preparation**"
      ]
    },
    {
      "cell_type": "code",
      "execution_count": null,
      "metadata": {
        "id": "6FaX-XYV_Qeq"
      },
      "outputs": [],
      "source": [
        "from sklearn.model_selection import StratifiedKFold\n",
        "from sklearn.preprocessing import StandardScaler\n",
        "from sklearn.utils.class_weight import compute_sample_weight\n",
        "from sklearn.metrics import mean_squared_error, mean_absolute_error, r2_score\n",
        "import keras.backend as K\n",
        "from keras.layers import Dense, Input, Conv2D, Reshape, Flatten, Dropout\n",
        "from keras.initializers import glorot_normal\n",
        "from keras.models import Model\n",
        "from keras import optimizers\n",
        "from tensorflow import keras\n",
        "from sklearn.model_selection import train_test_split\n",
        "from keras.utils import to_categorical\n",
        "from sklearn.metrics import confusion_matrix\n",
        "import matplotlib.pyplot as plt\n",
        "import seaborn as sns\n",
        "from sklearn.metrics import classification_report\n",
        "from sklearn.metrics import roc_curve, auc,roc_auc_score\n",
        "from tcn import TCN\n",
        "from keras.models import Sequential\n",
        "from keras.layers import Dense\n",
        "from keras.optimizers import SGD"
      ]
    },
    {
      "cell_type": "code",
      "execution_count": null,
      "metadata": {
        "id": "nViYesfY_Yi2"
      },
      "outputs": [],
      "source": [
        "def model_arch(input_dim, timesteps):\n",
        "  #Assuming you have 'timesteps' and 'input_dim' defined\n",
        "  num_classes = 3  # Number of classes in your classification task\n",
        "\n",
        "  # Model architecture\n",
        "  krl_init = glorot_normal(seed=42)\n",
        "\n",
        "  i = Input(shape=(timesteps, input_dim, 1), name='inp')\n",
        "  h = Conv2D(filters=64, kernel_size=5, strides=(3, 3), activation='relu',\n",
        "            name='conv2_1', kernel_initializer=krl_init, data_format='channels_last')(i)\n",
        "  h = Conv2D(filters=64, kernel_size=3, strides=(2, 2), activation='relu',\n",
        "            name='conv2_2', kernel_initializer=krl_init, data_format='channels_last')(h)\n",
        "  s = K.int_shape(h)\n",
        "  h = Reshape((s[1], s[2]*s[3]))(h)\n",
        "  h = TCN(return_sequences=True, nb_filters=50, kernel_size=3, kernel_initializer=krl_init,\n",
        "          nb_stacks=1, padding='causal', dilations=[1, 2, 4], activation='relu', name='tcn1')(h)\n",
        "  h = Flatten(name='flt')(h)\n",
        "  h = Dropout(0.5, name='drp1')(h)\n",
        "  h = Dense(512, activation='relu', name='fc1')(h)\n",
        "  h = Dense(num_classes, activation='softmax', name='output')(h)  # Using 'softmax' for multi-class classification\n",
        "\n",
        "  model = Model(inputs=i, outputs=h)\n",
        "  adamopt = keras.optimizers.Adam(learning_rate=0.0001)\n",
        "  model.compile(optimizer=adamopt, loss='categorical_crossentropy', metrics=['accuracy'])\n",
        "\n",
        "  model.summary()\n",
        "  return model\n",
        "\n"
      ]
    },
    {
      "cell_type": "code",
      "execution_count": null,
      "metadata": {
        "id": "2s8EMJDY_hPn"
      },
      "outputs": [],
      "source": [
        "def train_model(train_x, train_y):\n",
        "    sc = StandardScaler()\n",
        "    # standardize data\n",
        "    for i in range(train_x.shape[0]):\n",
        "        sc.partial_fit(train_x[i])\n",
        "    for i in range(train_x.shape[0]):\n",
        "        train_x[i] = sc.transform(train_x[i])\n",
        "    train_y = to_categorical(train_y, num_classes=3)\n",
        "    # prepare shape of data\n",
        "    (_, timesteps, num_feats) = train_x.shape\n",
        "    train_x = np.expand_dims(train_x, axis=-1)\n",
        "    # define model\n",
        "    K.clear_session()\n",
        "    model = model_arch(num_feats, timesteps)\n",
        "    # train model\n",
        "    model.fit(train_x, train_y, batch_size=7, epochs=5,\n",
        "              shuffle=True, verbose=0)\n",
        "\n",
        "    return model, sc"
      ]
    },
    {
      "cell_type": "code",
      "execution_count": null,
      "metadata": {
        "id": "eYqZG2gk_k8q",
        "colab": {
          "base_uri": "https://localhost:8080/",
          "height": 109
        },
        "outputId": "041d7307-666e-4a95-e916-4ad9cbb951ed"
      },
      "outputs": [
        {
          "output_type": "execute_result",
          "data": {
            "text/plain": [
              "\"\\ndef evaluate_10_folds(X, Y):\\n    skf = StratifiedKFold(n_splits=3, shuffle=True, random_state=21)\\n\\n    train_mse, train_rmse, train_mae, train_r2 = [], [], [], []\\n    test_mse, test_rmse, test_mae, test_r2 = [], [], [], []\\n\\n    for train_index, test_index in skf.split(X, Y):\\n        # select training and test data\\n        train_x, test_x = X[train_index], X[test_index]\\n        train_y, test_y = Y[train_index], Y[test_index]\\n\\n        model, scaler = train_model(train_x, train_y)\\n\\n        for i in range(test_x.shape[0]):\\n            test_x[i] = scaler.transform(test_x[i])\\n\\n        # prepare shape of data\\n        train_x = np.expand_dims(train_x, axis=-1)\\n        test_x = np.expand_dims(test_x, axis=-1)\\n        # model prediction\\n\\n        train_pred = model.predict(train_x)\\n        test_pred = model.predict(test_x)\\n\\n        # Evaluation\\n        # calculate MSE\\n        train_mse.append(mean_squared_error(train_y, train_pred))\\n        test_mse.append(mean_squared_error(test_y, test_pred))\\n        # calculate RMSE\\n        train_rmse.append(np.sqrt(mean_squared_error(train_y,train_pred)))\\n        test_rmse.append(np.sqrt(mean_squared_error(test_y,test_pred)))\\n        # calculate MAE\\n        train_mae.append(mean_absolute_error(train_y,train_pred))\\n        test_mae.append(mean_absolute_error(test_y,test_pred))\\n        # calculate R2\\n        train_r2.append(r2_score(train_y,train_pred))\\n        test_r2.append(r2_score(test_y,test_pred))\\n\\n\\n    print('train MSE:', np.mean(train_mse), '  **  test MSE:', np.mean(test_mse))\\n    print('train RMSE:', np.mean(train_rmse), '  **  test RMSE:', np.mean(test_rmse))\\n    print('train MAE:', np.mean(train_mae), '  **  test MAE:', np.mean(train_mae))\\n    print('train R2:', np.mean(train_r2), '  **  test R2:', np.mean(test_r2))\\n\""
            ],
            "application/vnd.google.colaboratory.intrinsic+json": {
              "type": "string"
            }
          },
          "metadata": {},
          "execution_count": 27
        }
      ],
      "source": [
        "\"\"\"\n",
        "def evaluate_10_folds(X, Y):\n",
        "    skf = StratifiedKFold(n_splits=3, shuffle=True, random_state=21)\n",
        "\n",
        "    train_mse, train_rmse, train_mae, train_r2 = [], [], [], []\n",
        "    test_mse, test_rmse, test_mae, test_r2 = [], [], [], []\n",
        "\n",
        "    for train_index, test_index in skf.split(X, Y):\n",
        "        # select training and test data\n",
        "        train_x, test_x = X[train_index], X[test_index]\n",
        "        train_y, test_y = Y[train_index], Y[test_index]\n",
        "\n",
        "        model, scaler = train_model(train_x, train_y)\n",
        "\n",
        "        for i in range(test_x.shape[0]):\n",
        "            test_x[i] = scaler.transform(test_x[i])\n",
        "\n",
        "        # prepare shape of data\n",
        "        train_x = np.expand_dims(train_x, axis=-1)\n",
        "        test_x = np.expand_dims(test_x, axis=-1)\n",
        "        # model prediction\n",
        "\n",
        "        train_pred = model.predict(train_x)\n",
        "        test_pred = model.predict(test_x)\n",
        "\n",
        "        # Evaluation\n",
        "        # calculate MSE\n",
        "        train_mse.append(mean_squared_error(train_y, train_pred))\n",
        "        test_mse.append(mean_squared_error(test_y, test_pred))\n",
        "        # calculate RMSE\n",
        "        train_rmse.append(np.sqrt(mean_squared_error(train_y,train_pred)))\n",
        "        test_rmse.append(np.sqrt(mean_squared_error(test_y,test_pred)))\n",
        "        # calculate MAE\n",
        "        train_mae.append(mean_absolute_error(train_y,train_pred))\n",
        "        test_mae.append(mean_absolute_error(test_y,test_pred))\n",
        "        # calculate R2\n",
        "        train_r2.append(r2_score(train_y,train_pred))\n",
        "        test_r2.append(r2_score(test_y,test_pred))\n",
        "\n",
        "\n",
        "    print('train MSE:', np.mean(train_mse), '  **  test MSE:', np.mean(test_mse))\n",
        "    print('train RMSE:', np.mean(train_rmse), '  **  test RMSE:', np.mean(test_rmse))\n",
        "    print('train MAE:', np.mean(train_mae), '  **  test MAE:', np.mean(train_mae))\n",
        "    print('train R2:', np.mean(train_r2), '  **  test R2:', np.mean(test_r2))\n",
        "\"\"\""
      ]
    },
    {
      "cell_type": "code",
      "source": [
        "OVERLAP_RATE = 0.9\n",
        "WINDOW_TIME = 5"
      ],
      "metadata": {
        "id": "MPy6qvhJi9Za"
      },
      "execution_count": null,
      "outputs": []
    },
    {
      "cell_type": "code",
      "source": [
        "#open eyes\n",
        "%cd /content/drive/MyDrive/open_eyes"
      ],
      "metadata": {
        "colab": {
          "base_uri": "https://localhost:8080/"
        },
        "id": "8wZyHrk_jD4q",
        "outputId": "e65941b2-7cf1-40e6-91a4-fdb3f88ed154"
      },
      "execution_count": null,
      "outputs": [
        {
          "output_type": "stream",
          "name": "stdout",
          "text": [
            "/content/drive/MyDrive/open_eyes\n"
          ]
        }
      ]
    },
    {
      "cell_type": "code",
      "source": [
        "#itemNums = [507,508,513,514,566,628,594,610,611,561,565,567,569,558,586,515,518,616,509,510,511,513,525,617,621,622,625,559,590,592]\n",
        "#itemNums = [507,514,566,628,594,610,611,561,565,567,569,558,586,515,518,616,509,510,511,513,525,617,622,625,559,590,592]\n",
        "#itemNums = [507,508,513,  566,628,594,  561,565,567]\n",
        "#itemNums = [507,508,  566,628,  561,567]"
      ],
      "metadata": {
        "id": "eHHA0-IoHorW"
      },
      "execution_count": null,
      "outputs": []
    },
    {
      "cell_type": "code",
      "source": [
        "X,Y = preprocess_data(itemNums, labelPath, OVERLAP_RATE, WINDOW_TIME)"
      ],
      "metadata": {
        "id": "xf5oVZZlbW9-",
        "colab": {
          "base_uri": "https://localhost:8080/"
        },
        "outputId": "9697dd35-132c-44e3-ffd3-bbbd156c4b9e"
      },
      "execution_count": null,
      "outputs": [
        {
          "output_type": "stream",
          "name": "stderr",
          "text": [
            "\r  0%|          | 0/27 [00:00<?, ?it/s]<ipython-input-14-e06260a80db4>:15: RuntimeWarning: Data will be preloaded. preload=False or a string preload is not supported when the data is stored in the .set file\n",
            "  raw = mne.io.read_raw_eeglab(setItem)\n"
          ]
        },
        {
          "output_type": "stream",
          "name": "stdout",
          "text": [
            "EEG channel type selected for re-referencing\n",
            "Applying a custom ('EEG',) reference.\n",
            "Applying baseline correction (mode: mean)\n",
            "Filtering raw data in 1 contiguous segment\n",
            "Setting up band-stop filter from 49 - 51 Hz\n",
            "\n",
            "FIR filter parameters\n",
            "---------------------\n",
            "Designing a one-pass, zero-phase, non-causal bandstop filter:\n",
            "- Windowed time-domain design (firwin) method\n",
            "- Hamming window with 0.0194 passband ripple and 53 dB stopband attenuation\n",
            "- Lower passband edge: 49.38\n",
            "- Lower transition bandwidth: 0.50 Hz (-6 dB cutoff frequency: 49.12 Hz)\n",
            "- Upper passband edge: 50.62 Hz\n",
            "- Upper transition bandwidth: 0.50 Hz (-6 dB cutoff frequency: 50.88 Hz)\n",
            "- Filter length: 3301 samples (6.602 s)\n",
            "\n"
          ]
        },
        {
          "output_type": "stream",
          "name": "stderr",
          "text": [
            "[Parallel(n_jobs=1)]: Done  17 tasks      | elapsed:    0.5s\n"
          ]
        },
        {
          "output_type": "stream",
          "name": "stdout",
          "text": [
            "Fitting ICA to data using 62 channels (please be patient, this may take a while)\n",
            "Selecting by non-zero PCA components: 56 components\n",
            "Fitting ICA took 8.2s.\n",
            "Applying ICA to Raw instance\n",
            "    Transforming to ICA space (56 components)\n",
            "    Zeroing out 0 ICA components\n",
            "    Projecting back using 62 PCA components\n"
          ]
        },
        {
          "output_type": "stream",
          "name": "stderr",
          "text": [
            "\r  4%|▎         | 1/27 [00:22<09:42, 22.41s/it]<ipython-input-14-e06260a80db4>:15: RuntimeWarning: Data will be preloaded. preload=False or a string preload is not supported when the data is stored in the .set file\n",
            "  raw = mne.io.read_raw_eeglab(setItem)\n"
          ]
        },
        {
          "output_type": "stream",
          "name": "stdout",
          "text": [
            "EEG channel type selected for re-referencing\n",
            "Applying a custom ('EEG',) reference.\n",
            "Applying baseline correction (mode: mean)\n",
            "Filtering raw data in 1 contiguous segment\n",
            "Setting up band-stop filter from 49 - 51 Hz\n",
            "\n",
            "FIR filter parameters\n",
            "---------------------\n",
            "Designing a one-pass, zero-phase, non-causal bandstop filter:\n",
            "- Windowed time-domain design (firwin) method\n",
            "- Hamming window with 0.0194 passband ripple and 53 dB stopband attenuation\n",
            "- Lower passband edge: 49.38\n",
            "- Lower transition bandwidth: 0.50 Hz (-6 dB cutoff frequency: 49.12 Hz)\n",
            "- Upper passband edge: 50.62 Hz\n",
            "- Upper transition bandwidth: 0.50 Hz (-6 dB cutoff frequency: 50.88 Hz)\n",
            "- Filter length: 3301 samples (6.602 s)\n",
            "\n"
          ]
        },
        {
          "output_type": "stream",
          "name": "stderr",
          "text": [
            "[Parallel(n_jobs=1)]: Done  17 tasks      | elapsed:    0.3s\n"
          ]
        },
        {
          "output_type": "stream",
          "name": "stdout",
          "text": [
            "Fitting ICA to data using 62 channels (please be patient, this may take a while)\n",
            "Selecting by non-zero PCA components: 61 components\n",
            "Fitting ICA took 8.8s.\n",
            "Applying ICA to Raw instance\n",
            "    Transforming to ICA space (61 components)\n",
            "    Zeroing out 0 ICA components\n",
            "    Projecting back using 62 PCA components\n"
          ]
        },
        {
          "output_type": "stream",
          "name": "stderr",
          "text": [
            "\r  7%|▋         | 2/27 [00:44<09:15, 22.22s/it]<ipython-input-14-e06260a80db4>:15: RuntimeWarning: Data will be preloaded. preload=False or a string preload is not supported when the data is stored in the .set file\n",
            "  raw = mne.io.read_raw_eeglab(setItem)\n"
          ]
        },
        {
          "output_type": "stream",
          "name": "stdout",
          "text": [
            "EEG channel type selected for re-referencing\n",
            "Applying a custom ('EEG',) reference.\n",
            "Applying baseline correction (mode: mean)\n",
            "Filtering raw data in 1 contiguous segment\n",
            "Setting up band-stop filter from 49 - 51 Hz\n",
            "\n",
            "FIR filter parameters\n",
            "---------------------\n",
            "Designing a one-pass, zero-phase, non-causal bandstop filter:\n",
            "- Windowed time-domain design (firwin) method\n",
            "- Hamming window with 0.0194 passband ripple and 53 dB stopband attenuation\n",
            "- Lower passband edge: 49.38\n",
            "- Lower transition bandwidth: 0.50 Hz (-6 dB cutoff frequency: 49.12 Hz)\n",
            "- Upper passband edge: 50.62 Hz\n",
            "- Upper transition bandwidth: 0.50 Hz (-6 dB cutoff frequency: 50.88 Hz)\n",
            "- Filter length: 3301 samples (6.602 s)\n",
            "\n"
          ]
        },
        {
          "output_type": "stream",
          "name": "stderr",
          "text": [
            "[Parallel(n_jobs=1)]: Done  17 tasks      | elapsed:    0.3s\n"
          ]
        },
        {
          "output_type": "stream",
          "name": "stdout",
          "text": [
            "Fitting ICA to data using 62 channels (please be patient, this may take a while)\n",
            "Selecting by non-zero PCA components: 61 components\n",
            "Fitting ICA took 16.3s.\n",
            "Applying ICA to Raw instance\n",
            "    Transforming to ICA space (61 components)\n",
            "    Zeroing out 0 ICA components\n",
            "    Projecting back using 62 PCA components\n"
          ]
        },
        {
          "output_type": "stream",
          "name": "stderr",
          "text": [
            "\r 11%|█         | 3/27 [01:09<09:26, 23.59s/it]<ipython-input-14-e06260a80db4>:15: RuntimeWarning: Data will be preloaded. preload=False or a string preload is not supported when the data is stored in the .set file\n",
            "  raw = mne.io.read_raw_eeglab(setItem)\n"
          ]
        },
        {
          "output_type": "stream",
          "name": "stdout",
          "text": [
            "EEG channel type selected for re-referencing\n",
            "Applying a custom ('EEG',) reference.\n",
            "Applying baseline correction (mode: mean)\n",
            "Filtering raw data in 1 contiguous segment\n",
            "Setting up band-stop filter from 49 - 51 Hz\n",
            "\n",
            "FIR filter parameters\n",
            "---------------------\n",
            "Designing a one-pass, zero-phase, non-causal bandstop filter:\n",
            "- Windowed time-domain design (firwin) method\n",
            "- Hamming window with 0.0194 passband ripple and 53 dB stopband attenuation\n",
            "- Lower passband edge: 49.38\n",
            "- Lower transition bandwidth: 0.50 Hz (-6 dB cutoff frequency: 49.12 Hz)\n",
            "- Upper passband edge: 50.62 Hz\n",
            "- Upper transition bandwidth: 0.50 Hz (-6 dB cutoff frequency: 50.88 Hz)\n",
            "- Filter length: 3301 samples (6.602 s)\n",
            "\n"
          ]
        },
        {
          "output_type": "stream",
          "name": "stderr",
          "text": [
            "[Parallel(n_jobs=1)]: Done  17 tasks      | elapsed:    0.3s\n"
          ]
        },
        {
          "output_type": "stream",
          "name": "stdout",
          "text": [
            "Fitting ICA to data using 62 channels (please be patient, this may take a while)\n",
            "Selecting by non-zero PCA components: 61 components\n",
            "Fitting ICA took 89.7s.\n",
            "Applying ICA to Raw instance\n",
            "    Transforming to ICA space (61 components)\n",
            "    Zeroing out 0 ICA components\n",
            "    Projecting back using 62 PCA components\n"
          ]
        },
        {
          "output_type": "stream",
          "name": "stderr",
          "text": [
            "\r 15%|█▍        | 4/27 [02:45<19:58, 52.09s/it]<ipython-input-14-e06260a80db4>:15: RuntimeWarning: Data will be preloaded. preload=False or a string preload is not supported when the data is stored in the .set file\n",
            "  raw = mne.io.read_raw_eeglab(setItem)\n"
          ]
        },
        {
          "output_type": "stream",
          "name": "stdout",
          "text": [
            "EEG channel type selected for re-referencing\n",
            "Applying a custom ('EEG',) reference.\n",
            "Applying baseline correction (mode: mean)\n",
            "Filtering raw data in 1 contiguous segment\n",
            "Setting up band-stop filter from 49 - 51 Hz\n",
            "\n",
            "FIR filter parameters\n",
            "---------------------\n",
            "Designing a one-pass, zero-phase, non-causal bandstop filter:\n",
            "- Windowed time-domain design (firwin) method\n",
            "- Hamming window with 0.0194 passband ripple and 53 dB stopband attenuation\n",
            "- Lower passband edge: 49.38\n",
            "- Lower transition bandwidth: 0.50 Hz (-6 dB cutoff frequency: 49.12 Hz)\n",
            "- Upper passband edge: 50.62 Hz\n",
            "- Upper transition bandwidth: 0.50 Hz (-6 dB cutoff frequency: 50.88 Hz)\n",
            "- Filter length: 3301 samples (6.602 s)\n",
            "\n"
          ]
        },
        {
          "output_type": "stream",
          "name": "stderr",
          "text": [
            "[Parallel(n_jobs=1)]: Done  17 tasks      | elapsed:    0.2s\n"
          ]
        },
        {
          "output_type": "stream",
          "name": "stdout",
          "text": [
            "Fitting ICA to data using 62 channels (please be patient, this may take a while)\n",
            "Selecting by non-zero PCA components: 61 components\n",
            "Fitting ICA took 4.4s.\n",
            "Applying ICA to Raw instance\n",
            "    Transforming to ICA space (61 components)\n",
            "    Zeroing out 0 ICA components\n",
            "    Projecting back using 62 PCA components\n"
          ]
        },
        {
          "output_type": "stream",
          "name": "stderr",
          "text": [
            "\r 19%|█▊        | 5/27 [02:54<13:23, 36.50s/it]<ipython-input-14-e06260a80db4>:15: RuntimeWarning: Data will be preloaded. preload=False or a string preload is not supported when the data is stored in the .set file\n",
            "  raw = mne.io.read_raw_eeglab(setItem)\n"
          ]
        },
        {
          "output_type": "stream",
          "name": "stdout",
          "text": [
            "EEG channel type selected for re-referencing\n",
            "Applying a custom ('EEG',) reference.\n",
            "Applying baseline correction (mode: mean)\n",
            "Filtering raw data in 1 contiguous segment\n",
            "Setting up band-stop filter from 49 - 51 Hz\n",
            "\n",
            "FIR filter parameters\n",
            "---------------------\n",
            "Designing a one-pass, zero-phase, non-causal bandstop filter:\n",
            "- Windowed time-domain design (firwin) method\n",
            "- Hamming window with 0.0194 passband ripple and 53 dB stopband attenuation\n",
            "- Lower passband edge: 49.38\n",
            "- Lower transition bandwidth: 0.50 Hz (-6 dB cutoff frequency: 49.12 Hz)\n",
            "- Upper passband edge: 50.62 Hz\n",
            "- Upper transition bandwidth: 0.50 Hz (-6 dB cutoff frequency: 50.88 Hz)\n",
            "- Filter length: 3301 samples (6.602 s)\n",
            "\n"
          ]
        },
        {
          "output_type": "stream",
          "name": "stderr",
          "text": [
            "[Parallel(n_jobs=1)]: Done  17 tasks      | elapsed:    0.3s\n"
          ]
        },
        {
          "output_type": "stream",
          "name": "stdout",
          "text": [
            "Fitting ICA to data using 62 channels (please be patient, this may take a while)\n",
            "Selecting by non-zero PCA components: 61 components\n",
            "Fitting ICA took 111.8s.\n",
            "Applying ICA to Raw instance\n",
            "    Transforming to ICA space (61 components)\n",
            "    Zeroing out 0 ICA components\n",
            "    Projecting back using 62 PCA components\n"
          ]
        },
        {
          "output_type": "stream",
          "name": "stderr",
          "text": [
            "\r 22%|██▏       | 6/27 [04:52<22:26, 64.10s/it]<ipython-input-14-e06260a80db4>:15: RuntimeWarning: Data will be preloaded. preload=False or a string preload is not supported when the data is stored in the .set file\n",
            "  raw = mne.io.read_raw_eeglab(setItem)\n"
          ]
        },
        {
          "output_type": "stream",
          "name": "stdout",
          "text": [
            "EEG channel type selected for re-referencing\n",
            "Applying a custom ('EEG',) reference.\n",
            "Applying baseline correction (mode: mean)\n",
            "Filtering raw data in 1 contiguous segment\n",
            "Setting up band-stop filter from 49 - 51 Hz\n",
            "\n",
            "FIR filter parameters\n",
            "---------------------\n",
            "Designing a one-pass, zero-phase, non-causal bandstop filter:\n",
            "- Windowed time-domain design (firwin) method\n",
            "- Hamming window with 0.0194 passband ripple and 53 dB stopband attenuation\n",
            "- Lower passband edge: 49.38\n",
            "- Lower transition bandwidth: 0.50 Hz (-6 dB cutoff frequency: 49.12 Hz)\n",
            "- Upper passband edge: 50.62 Hz\n",
            "- Upper transition bandwidth: 0.50 Hz (-6 dB cutoff frequency: 50.88 Hz)\n",
            "- Filter length: 3301 samples (6.602 s)\n",
            "\n"
          ]
        },
        {
          "output_type": "stream",
          "name": "stderr",
          "text": [
            "[Parallel(n_jobs=1)]: Done  17 tasks      | elapsed:    0.3s\n"
          ]
        },
        {
          "output_type": "stream",
          "name": "stdout",
          "text": [
            "Fitting ICA to data using 62 channels (please be patient, this may take a while)\n",
            "Selecting by non-zero PCA components: 57 components\n",
            "Fitting ICA took 96.8s.\n",
            "Applying ICA to Raw instance\n",
            "    Transforming to ICA space (57 components)\n",
            "    Zeroing out 0 ICA components\n",
            "    Projecting back using 62 PCA components\n"
          ]
        },
        {
          "output_type": "stream",
          "name": "stderr",
          "text": [
            "\r 26%|██▌       | 7/27 [06:34<25:35, 76.76s/it]<ipython-input-14-e06260a80db4>:15: RuntimeWarning: Data will be preloaded. preload=False or a string preload is not supported when the data is stored in the .set file\n",
            "  raw = mne.io.read_raw_eeglab(setItem)\n"
          ]
        },
        {
          "output_type": "stream",
          "name": "stdout",
          "text": [
            "EEG channel type selected for re-referencing\n",
            "Applying a custom ('EEG',) reference.\n",
            "Applying baseline correction (mode: mean)\n",
            "Filtering raw data in 1 contiguous segment\n",
            "Setting up band-stop filter from 49 - 51 Hz\n",
            "\n",
            "FIR filter parameters\n",
            "---------------------\n",
            "Designing a one-pass, zero-phase, non-causal bandstop filter:\n",
            "- Windowed time-domain design (firwin) method\n",
            "- Hamming window with 0.0194 passband ripple and 53 dB stopband attenuation\n",
            "- Lower passband edge: 49.38\n",
            "- Lower transition bandwidth: 0.50 Hz (-6 dB cutoff frequency: 49.12 Hz)\n",
            "- Upper passband edge: 50.62 Hz\n",
            "- Upper transition bandwidth: 0.50 Hz (-6 dB cutoff frequency: 50.88 Hz)\n",
            "- Filter length: 3301 samples (6.602 s)\n",
            "\n"
          ]
        },
        {
          "output_type": "stream",
          "name": "stderr",
          "text": [
            "[Parallel(n_jobs=1)]: Done  17 tasks      | elapsed:    0.2s\n"
          ]
        },
        {
          "output_type": "stream",
          "name": "stdout",
          "text": [
            "Fitting ICA to data using 62 channels (please be patient, this may take a while)\n",
            "Selecting by non-zero PCA components: 61 components\n",
            "Fitting ICA took 16.9s.\n",
            "Applying ICA to Raw instance\n",
            "    Transforming to ICA space (61 components)\n",
            "    Zeroing out 0 ICA components\n",
            "    Projecting back using 62 PCA components\n"
          ]
        },
        {
          "output_type": "stream",
          "name": "stderr",
          "text": [
            "\r 30%|██▉       | 8/27 [06:56<18:44, 59.18s/it]<ipython-input-14-e06260a80db4>:15: RuntimeWarning: Data will be preloaded. preload=False or a string preload is not supported when the data is stored in the .set file\n",
            "  raw = mne.io.read_raw_eeglab(setItem)\n"
          ]
        },
        {
          "output_type": "stream",
          "name": "stdout",
          "text": [
            "EEG channel type selected for re-referencing\n",
            "Applying a custom ('EEG',) reference.\n",
            "Applying baseline correction (mode: mean)\n",
            "Filtering raw data in 1 contiguous segment\n",
            "Setting up band-stop filter from 49 - 51 Hz\n",
            "\n",
            "FIR filter parameters\n",
            "---------------------\n",
            "Designing a one-pass, zero-phase, non-causal bandstop filter:\n",
            "- Windowed time-domain design (firwin) method\n",
            "- Hamming window with 0.0194 passband ripple and 53 dB stopband attenuation\n",
            "- Lower passband edge: 49.38\n",
            "- Lower transition bandwidth: 0.50 Hz (-6 dB cutoff frequency: 49.12 Hz)\n",
            "- Upper passband edge: 50.62 Hz\n",
            "- Upper transition bandwidth: 0.50 Hz (-6 dB cutoff frequency: 50.88 Hz)\n",
            "- Filter length: 3301 samples (6.602 s)\n",
            "\n"
          ]
        },
        {
          "output_type": "stream",
          "name": "stderr",
          "text": [
            "[Parallel(n_jobs=1)]: Done  17 tasks      | elapsed:    0.2s\n"
          ]
        },
        {
          "output_type": "stream",
          "name": "stdout",
          "text": [
            "Fitting ICA to data using 62 channels (please be patient, this may take a while)\n",
            "Selecting by non-zero PCA components: 61 components\n",
            "Fitting ICA took 4.8s.\n",
            "Applying ICA to Raw instance\n",
            "    Transforming to ICA space (61 components)\n",
            "    Zeroing out 0 ICA components\n",
            "    Projecting back using 62 PCA components\n"
          ]
        },
        {
          "output_type": "stream",
          "name": "stderr",
          "text": [
            "\r 33%|███▎      | 9/27 [07:05<13:04, 43.59s/it]<ipython-input-14-e06260a80db4>:15: RuntimeWarning: Data will be preloaded. preload=False or a string preload is not supported when the data is stored in the .set file\n",
            "  raw = mne.io.read_raw_eeglab(setItem)\n"
          ]
        },
        {
          "output_type": "stream",
          "name": "stdout",
          "text": [
            "EEG channel type selected for re-referencing\n",
            "Applying a custom ('EEG',) reference.\n",
            "Applying baseline correction (mode: mean)\n",
            "Filtering raw data in 1 contiguous segment\n",
            "Setting up band-stop filter from 49 - 51 Hz\n",
            "\n",
            "FIR filter parameters\n",
            "---------------------\n",
            "Designing a one-pass, zero-phase, non-causal bandstop filter:\n",
            "- Windowed time-domain design (firwin) method\n",
            "- Hamming window with 0.0194 passband ripple and 53 dB stopband attenuation\n",
            "- Lower passband edge: 49.38\n",
            "- Lower transition bandwidth: 0.50 Hz (-6 dB cutoff frequency: 49.12 Hz)\n",
            "- Upper passband edge: 50.62 Hz\n",
            "- Upper transition bandwidth: 0.50 Hz (-6 dB cutoff frequency: 50.88 Hz)\n",
            "- Filter length: 3301 samples (6.602 s)\n",
            "\n"
          ]
        },
        {
          "output_type": "stream",
          "name": "stderr",
          "text": [
            "[Parallel(n_jobs=1)]: Done  17 tasks      | elapsed:    0.3s\n"
          ]
        },
        {
          "output_type": "stream",
          "name": "stdout",
          "text": [
            "Fitting ICA to data using 62 channels (please be patient, this may take a while)\n",
            "Selecting by non-zero PCA components: 61 components\n",
            "Fitting ICA took 16.4s.\n",
            "Applying ICA to Raw instance\n",
            "    Transforming to ICA space (61 components)\n",
            "    Zeroing out 0 ICA components\n",
            "    Projecting back using 62 PCA components\n"
          ]
        },
        {
          "output_type": "stream",
          "name": "stderr",
          "text": [
            "\r 37%|███▋      | 10/27 [07:27<10:28, 36.97s/it]<ipython-input-14-e06260a80db4>:15: RuntimeWarning: Data will be preloaded. preload=False or a string preload is not supported when the data is stored in the .set file\n",
            "  raw = mne.io.read_raw_eeglab(setItem)\n"
          ]
        },
        {
          "output_type": "stream",
          "name": "stdout",
          "text": [
            "EEG channel type selected for re-referencing\n",
            "Applying a custom ('EEG',) reference.\n",
            "Applying baseline correction (mode: mean)\n",
            "Filtering raw data in 1 contiguous segment\n",
            "Setting up band-stop filter from 49 - 51 Hz\n",
            "\n",
            "FIR filter parameters\n",
            "---------------------\n",
            "Designing a one-pass, zero-phase, non-causal bandstop filter:\n",
            "- Windowed time-domain design (firwin) method\n",
            "- Hamming window with 0.0194 passband ripple and 53 dB stopband attenuation\n",
            "- Lower passband edge: 49.38\n",
            "- Lower transition bandwidth: 0.50 Hz (-6 dB cutoff frequency: 49.12 Hz)\n",
            "- Upper passband edge: 50.62 Hz\n",
            "- Upper transition bandwidth: 0.50 Hz (-6 dB cutoff frequency: 50.88 Hz)\n",
            "- Filter length: 3301 samples (6.602 s)\n",
            "\n"
          ]
        },
        {
          "output_type": "stream",
          "name": "stderr",
          "text": [
            "[Parallel(n_jobs=1)]: Done  17 tasks      | elapsed:    0.2s\n"
          ]
        },
        {
          "output_type": "stream",
          "name": "stdout",
          "text": [
            "Fitting ICA to data using 62 channels (please be patient, this may take a while)\n",
            "Selecting by non-zero PCA components: 61 components\n",
            "Fitting ICA took 9.5s.\n",
            "Applying ICA to Raw instance\n",
            "    Transforming to ICA space (61 components)\n",
            "    Zeroing out 0 ICA components\n",
            "    Projecting back using 62 PCA components\n"
          ]
        },
        {
          "output_type": "stream",
          "name": "stderr",
          "text": [
            "\r 41%|████      | 11/27 [07:42<08:01, 30.11s/it]<ipython-input-14-e06260a80db4>:15: RuntimeWarning: Data will be preloaded. preload=False or a string preload is not supported when the data is stored in the .set file\n",
            "  raw = mne.io.read_raw_eeglab(setItem)\n"
          ]
        },
        {
          "output_type": "stream",
          "name": "stdout",
          "text": [
            "EEG channel type selected for re-referencing\n",
            "Applying a custom ('EEG',) reference.\n",
            "Applying baseline correction (mode: mean)\n",
            "Filtering raw data in 1 contiguous segment\n",
            "Setting up band-stop filter from 49 - 51 Hz\n",
            "\n",
            "FIR filter parameters\n",
            "---------------------\n",
            "Designing a one-pass, zero-phase, non-causal bandstop filter:\n",
            "- Windowed time-domain design (firwin) method\n",
            "- Hamming window with 0.0194 passband ripple and 53 dB stopband attenuation\n",
            "- Lower passband edge: 49.38\n",
            "- Lower transition bandwidth: 0.50 Hz (-6 dB cutoff frequency: 49.12 Hz)\n",
            "- Upper passband edge: 50.62 Hz\n",
            "- Upper transition bandwidth: 0.50 Hz (-6 dB cutoff frequency: 50.88 Hz)\n",
            "- Filter length: 3301 samples (6.602 s)\n",
            "\n"
          ]
        },
        {
          "output_type": "stream",
          "name": "stderr",
          "text": [
            "[Parallel(n_jobs=1)]: Done  17 tasks      | elapsed:    0.1s\n"
          ]
        },
        {
          "output_type": "stream",
          "name": "stdout",
          "text": [
            "Fitting ICA to data using 62 channels (please be patient, this may take a while)\n",
            "Selecting by non-zero PCA components: 60 components\n",
            "Fitting ICA took 15.7s.\n",
            "Applying ICA to Raw instance\n",
            "    Transforming to ICA space (60 components)\n",
            "    Zeroing out 0 ICA components\n",
            "    Projecting back using 62 PCA components\n"
          ]
        },
        {
          "output_type": "stream",
          "name": "stderr",
          "text": [
            "\r 44%|████▍     | 12/27 [08:02<06:44, 26.98s/it]<ipython-input-14-e06260a80db4>:15: RuntimeWarning: Data will be preloaded. preload=False or a string preload is not supported when the data is stored in the .set file\n",
            "  raw = mne.io.read_raw_eeglab(setItem)\n"
          ]
        },
        {
          "output_type": "stream",
          "name": "stdout",
          "text": [
            "EEG channel type selected for re-referencing\n",
            "Applying a custom ('EEG',) reference.\n",
            "Applying baseline correction (mode: mean)\n",
            "Filtering raw data in 1 contiguous segment\n",
            "Setting up band-stop filter from 49 - 51 Hz\n",
            "\n",
            "FIR filter parameters\n",
            "---------------------\n",
            "Designing a one-pass, zero-phase, non-causal bandstop filter:\n",
            "- Windowed time-domain design (firwin) method\n",
            "- Hamming window with 0.0194 passband ripple and 53 dB stopband attenuation\n",
            "- Lower passband edge: 49.38\n",
            "- Lower transition bandwidth: 0.50 Hz (-6 dB cutoff frequency: 49.12 Hz)\n",
            "- Upper passband edge: 50.62 Hz\n",
            "- Upper transition bandwidth: 0.50 Hz (-6 dB cutoff frequency: 50.88 Hz)\n",
            "- Filter length: 3301 samples (6.602 s)\n",
            "\n"
          ]
        },
        {
          "output_type": "stream",
          "name": "stderr",
          "text": [
            "[Parallel(n_jobs=1)]: Done  17 tasks      | elapsed:    0.2s\n"
          ]
        },
        {
          "output_type": "stream",
          "name": "stdout",
          "text": [
            "Fitting ICA to data using 62 channels (please be patient, this may take a while)\n",
            "Selecting by non-zero PCA components: 61 components\n",
            "Fitting ICA took 23.5s.\n",
            "Applying ICA to Raw instance\n",
            "    Transforming to ICA space (61 components)\n",
            "    Zeroing out 0 ICA components\n",
            "    Projecting back using 62 PCA components\n"
          ]
        },
        {
          "output_type": "stream",
          "name": "stderr",
          "text": [
            "\r 48%|████▊     | 13/27 [08:29<06:20, 27.15s/it]<ipython-input-14-e06260a80db4>:15: RuntimeWarning: Data will be preloaded. preload=False or a string preload is not supported when the data is stored in the .set file\n",
            "  raw = mne.io.read_raw_eeglab(setItem)\n"
          ]
        },
        {
          "output_type": "stream",
          "name": "stdout",
          "text": [
            "EEG channel type selected for re-referencing\n",
            "Applying a custom ('EEG',) reference.\n",
            "Applying baseline correction (mode: mean)\n",
            "Filtering raw data in 1 contiguous segment\n",
            "Setting up band-stop filter from 49 - 51 Hz\n",
            "\n",
            "FIR filter parameters\n",
            "---------------------\n",
            "Designing a one-pass, zero-phase, non-causal bandstop filter:\n",
            "- Windowed time-domain design (firwin) method\n",
            "- Hamming window with 0.0194 passband ripple and 53 dB stopband attenuation\n",
            "- Lower passband edge: 49.38\n",
            "- Lower transition bandwidth: 0.50 Hz (-6 dB cutoff frequency: 49.12 Hz)\n",
            "- Upper passband edge: 50.62 Hz\n",
            "- Upper transition bandwidth: 0.50 Hz (-6 dB cutoff frequency: 50.88 Hz)\n",
            "- Filter length: 3301 samples (6.602 s)\n",
            "\n"
          ]
        },
        {
          "output_type": "stream",
          "name": "stderr",
          "text": [
            "[Parallel(n_jobs=1)]: Done  17 tasks      | elapsed:    0.3s\n"
          ]
        },
        {
          "output_type": "stream",
          "name": "stdout",
          "text": [
            "Fitting ICA to data using 62 channels (please be patient, this may take a while)\n",
            "Selecting by non-zero PCA components: 60 components\n",
            "Fitting ICA took 4.9s.\n",
            "Applying ICA to Raw instance\n",
            "    Transforming to ICA space (60 components)\n",
            "    Zeroing out 0 ICA components\n",
            "    Projecting back using 62 PCA components\n"
          ]
        },
        {
          "output_type": "stream",
          "name": "stderr",
          "text": [
            "\r 52%|█████▏    | 14/27 [08:40<04:46, 22.06s/it]<ipython-input-14-e06260a80db4>:15: RuntimeWarning: Data will be preloaded. preload=False or a string preload is not supported when the data is stored in the .set file\n",
            "  raw = mne.io.read_raw_eeglab(setItem)\n"
          ]
        },
        {
          "output_type": "stream",
          "name": "stdout",
          "text": [
            "EEG channel type selected for re-referencing\n",
            "Applying a custom ('EEG',) reference.\n",
            "Applying baseline correction (mode: mean)\n",
            "Filtering raw data in 1 contiguous segment\n",
            "Setting up band-stop filter from 49 - 51 Hz\n",
            "\n",
            "FIR filter parameters\n",
            "---------------------\n",
            "Designing a one-pass, zero-phase, non-causal bandstop filter:\n",
            "- Windowed time-domain design (firwin) method\n",
            "- Hamming window with 0.0194 passband ripple and 53 dB stopband attenuation\n",
            "- Lower passband edge: 49.38\n",
            "- Lower transition bandwidth: 0.50 Hz (-6 dB cutoff frequency: 49.12 Hz)\n",
            "- Upper passband edge: 50.62 Hz\n",
            "- Upper transition bandwidth: 0.50 Hz (-6 dB cutoff frequency: 50.88 Hz)\n",
            "- Filter length: 3301 samples (6.602 s)\n",
            "\n"
          ]
        },
        {
          "output_type": "stream",
          "name": "stderr",
          "text": [
            "[Parallel(n_jobs=1)]: Done  17 tasks      | elapsed:    0.2s\n"
          ]
        },
        {
          "output_type": "stream",
          "name": "stdout",
          "text": [
            "Fitting ICA to data using 62 channels (please be patient, this may take a while)\n",
            "Selecting by non-zero PCA components: 61 components\n",
            "Fitting ICA took 6.5s.\n",
            "Applying ICA to Raw instance\n",
            "    Transforming to ICA space (61 components)\n",
            "    Zeroing out 0 ICA components\n",
            "    Projecting back using 62 PCA components\n"
          ]
        },
        {
          "output_type": "stream",
          "name": "stderr",
          "text": [
            "\r 56%|█████▌    | 15/27 [08:51<03:47, 18.97s/it]<ipython-input-14-e06260a80db4>:15: RuntimeWarning: Data will be preloaded. preload=False or a string preload is not supported when the data is stored in the .set file\n",
            "  raw = mne.io.read_raw_eeglab(setItem)\n"
          ]
        },
        {
          "output_type": "stream",
          "name": "stdout",
          "text": [
            "EEG channel type selected for re-referencing\n",
            "Applying a custom ('EEG',) reference.\n",
            "Applying baseline correction (mode: mean)\n",
            "Filtering raw data in 1 contiguous segment\n",
            "Setting up band-stop filter from 49 - 51 Hz\n",
            "\n",
            "FIR filter parameters\n",
            "---------------------\n",
            "Designing a one-pass, zero-phase, non-causal bandstop filter:\n",
            "- Windowed time-domain design (firwin) method\n",
            "- Hamming window with 0.0194 passband ripple and 53 dB stopband attenuation\n",
            "- Lower passband edge: 49.38\n",
            "- Lower transition bandwidth: 0.50 Hz (-6 dB cutoff frequency: 49.12 Hz)\n",
            "- Upper passband edge: 50.62 Hz\n",
            "- Upper transition bandwidth: 0.50 Hz (-6 dB cutoff frequency: 50.88 Hz)\n",
            "- Filter length: 3301 samples (6.602 s)\n",
            "\n"
          ]
        },
        {
          "output_type": "stream",
          "name": "stderr",
          "text": [
            "[Parallel(n_jobs=1)]: Done  17 tasks      | elapsed:    0.2s\n"
          ]
        },
        {
          "output_type": "stream",
          "name": "stdout",
          "text": [
            "Fitting ICA to data using 62 channels (please be patient, this may take a while)\n",
            "Selecting by non-zero PCA components: 60 components\n",
            "Fitting ICA took 137.0s.\n",
            "Applying ICA to Raw instance\n",
            "    Transforming to ICA space (60 components)\n",
            "    Zeroing out 0 ICA components\n",
            "    Projecting back using 62 PCA components\n"
          ]
        },
        {
          "output_type": "stream",
          "name": "stderr",
          "text": [
            "\r 59%|█████▉    | 16/27 [11:13<10:16, 56.03s/it]<ipython-input-14-e06260a80db4>:15: RuntimeWarning: Data will be preloaded. preload=False or a string preload is not supported when the data is stored in the .set file\n",
            "  raw = mne.io.read_raw_eeglab(setItem)\n"
          ]
        },
        {
          "output_type": "stream",
          "name": "stdout",
          "text": [
            "EEG channel type selected for re-referencing\n",
            "Applying a custom ('EEG',) reference.\n",
            "Applying baseline correction (mode: mean)\n",
            "Filtering raw data in 1 contiguous segment\n",
            "Setting up band-stop filter from 49 - 51 Hz\n",
            "\n",
            "FIR filter parameters\n",
            "---------------------\n",
            "Designing a one-pass, zero-phase, non-causal bandstop filter:\n",
            "- Windowed time-domain design (firwin) method\n",
            "- Hamming window with 0.0194 passband ripple and 53 dB stopband attenuation\n",
            "- Lower passband edge: 49.38\n",
            "- Lower transition bandwidth: 0.50 Hz (-6 dB cutoff frequency: 49.12 Hz)\n",
            "- Upper passband edge: 50.62 Hz\n",
            "- Upper transition bandwidth: 0.50 Hz (-6 dB cutoff frequency: 50.88 Hz)\n",
            "- Filter length: 3301 samples (6.602 s)\n",
            "\n"
          ]
        },
        {
          "output_type": "stream",
          "name": "stderr",
          "text": [
            "[Parallel(n_jobs=1)]: Done  17 tasks      | elapsed:    0.3s\n"
          ]
        },
        {
          "output_type": "stream",
          "name": "stdout",
          "text": [
            "Fitting ICA to data using 62 channels (please be patient, this may take a while)\n",
            "Selecting by non-zero PCA components: 57 components\n",
            "Fitting ICA took 4.9s.\n",
            "Applying ICA to Raw instance\n",
            "    Transforming to ICA space (57 components)\n",
            "    Zeroing out 0 ICA components\n",
            "    Projecting back using 62 PCA components\n"
          ]
        },
        {
          "output_type": "stream",
          "name": "stderr",
          "text": [
            "\r 63%|██████▎   | 17/27 [11:24<07:03, 42.36s/it]<ipython-input-14-e06260a80db4>:15: RuntimeWarning: Data will be preloaded. preload=False or a string preload is not supported when the data is stored in the .set file\n",
            "  raw = mne.io.read_raw_eeglab(setItem)\n"
          ]
        },
        {
          "output_type": "stream",
          "name": "stdout",
          "text": [
            "EEG channel type selected for re-referencing\n",
            "Applying a custom ('EEG',) reference.\n",
            "Applying baseline correction (mode: mean)\n",
            "Filtering raw data in 1 contiguous segment\n",
            "Setting up band-stop filter from 49 - 51 Hz\n",
            "\n",
            "FIR filter parameters\n",
            "---------------------\n",
            "Designing a one-pass, zero-phase, non-causal bandstop filter:\n",
            "- Windowed time-domain design (firwin) method\n",
            "- Hamming window with 0.0194 passband ripple and 53 dB stopband attenuation\n",
            "- Lower passband edge: 49.38\n",
            "- Lower transition bandwidth: 0.50 Hz (-6 dB cutoff frequency: 49.12 Hz)\n",
            "- Upper passband edge: 50.62 Hz\n",
            "- Upper transition bandwidth: 0.50 Hz (-6 dB cutoff frequency: 50.88 Hz)\n",
            "- Filter length: 3301 samples (6.602 s)\n",
            "\n"
          ]
        },
        {
          "output_type": "stream",
          "name": "stderr",
          "text": [
            "[Parallel(n_jobs=1)]: Done  17 tasks      | elapsed:    0.2s\n"
          ]
        },
        {
          "output_type": "stream",
          "name": "stdout",
          "text": [
            "Fitting ICA to data using 62 channels (please be patient, this may take a while)\n",
            "Selecting by non-zero PCA components: 57 components\n",
            "Fitting ICA took 14.3s.\n",
            "Applying ICA to Raw instance\n",
            "    Transforming to ICA space (57 components)\n",
            "    Zeroing out 0 ICA components\n",
            "    Projecting back using 62 PCA components\n"
          ]
        },
        {
          "output_type": "stream",
          "name": "stderr",
          "text": [
            "\r 67%|██████▋   | 18/27 [11:44<05:19, 35.49s/it]<ipython-input-14-e06260a80db4>:15: RuntimeWarning: Data will be preloaded. preload=False or a string preload is not supported when the data is stored in the .set file\n",
            "  raw = mne.io.read_raw_eeglab(setItem)\n"
          ]
        },
        {
          "output_type": "stream",
          "name": "stdout",
          "text": [
            "EEG channel type selected for re-referencing\n",
            "Applying a custom ('EEG',) reference.\n",
            "Applying baseline correction (mode: mean)\n",
            "Filtering raw data in 1 contiguous segment\n",
            "Setting up band-stop filter from 49 - 51 Hz\n",
            "\n",
            "FIR filter parameters\n",
            "---------------------\n",
            "Designing a one-pass, zero-phase, non-causal bandstop filter:\n",
            "- Windowed time-domain design (firwin) method\n",
            "- Hamming window with 0.0194 passband ripple and 53 dB stopband attenuation\n",
            "- Lower passband edge: 49.38\n",
            "- Lower transition bandwidth: 0.50 Hz (-6 dB cutoff frequency: 49.12 Hz)\n",
            "- Upper passband edge: 50.62 Hz\n",
            "- Upper transition bandwidth: 0.50 Hz (-6 dB cutoff frequency: 50.88 Hz)\n",
            "- Filter length: 3301 samples (6.602 s)\n",
            "\n"
          ]
        },
        {
          "output_type": "stream",
          "name": "stderr",
          "text": [
            "[Parallel(n_jobs=1)]: Done  17 tasks      | elapsed:    0.3s\n"
          ]
        },
        {
          "output_type": "stream",
          "name": "stdout",
          "text": [
            "Fitting ICA to data using 62 channels (please be patient, this may take a while)\n",
            "Selecting by non-zero PCA components: 61 components\n",
            "Fitting ICA took 18.1s.\n",
            "Applying ICA to Raw instance\n",
            "    Transforming to ICA space (61 components)\n",
            "    Zeroing out 0 ICA components\n",
            "    Projecting back using 62 PCA components\n"
          ]
        },
        {
          "output_type": "stream",
          "name": "stderr",
          "text": [
            "\r 70%|███████   | 19/27 [12:08<04:16, 32.06s/it]<ipython-input-14-e06260a80db4>:15: RuntimeWarning: Data will be preloaded. preload=False or a string preload is not supported when the data is stored in the .set file\n",
            "  raw = mne.io.read_raw_eeglab(setItem)\n"
          ]
        },
        {
          "output_type": "stream",
          "name": "stdout",
          "text": [
            "EEG channel type selected for re-referencing\n",
            "Applying a custom ('EEG',) reference.\n",
            "Applying baseline correction (mode: mean)\n",
            "Filtering raw data in 1 contiguous segment\n",
            "Setting up band-stop filter from 49 - 51 Hz\n",
            "\n",
            "FIR filter parameters\n",
            "---------------------\n",
            "Designing a one-pass, zero-phase, non-causal bandstop filter:\n",
            "- Windowed time-domain design (firwin) method\n",
            "- Hamming window with 0.0194 passband ripple and 53 dB stopband attenuation\n",
            "- Lower passband edge: 49.38\n",
            "- Lower transition bandwidth: 0.50 Hz (-6 dB cutoff frequency: 49.12 Hz)\n",
            "- Upper passband edge: 50.62 Hz\n",
            "- Upper transition bandwidth: 0.50 Hz (-6 dB cutoff frequency: 50.88 Hz)\n",
            "- Filter length: 3301 samples (6.602 s)\n",
            "\n"
          ]
        },
        {
          "output_type": "stream",
          "name": "stderr",
          "text": [
            "[Parallel(n_jobs=1)]: Done  17 tasks      | elapsed:    0.2s\n"
          ]
        },
        {
          "output_type": "stream",
          "name": "stdout",
          "text": [
            "Fitting ICA to data using 62 channels (please be patient, this may take a while)\n",
            "Selecting by non-zero PCA components: 59 components\n",
            "Fitting ICA took 4.8s.\n",
            "Applying ICA to Raw instance\n",
            "    Transforming to ICA space (59 components)\n",
            "    Zeroing out 0 ICA components\n",
            "    Projecting back using 62 PCA components\n"
          ]
        },
        {
          "output_type": "stream",
          "name": "stderr",
          "text": [
            "\r 74%|███████▍  | 20/27 [12:17<02:57, 25.30s/it]<ipython-input-14-e06260a80db4>:15: RuntimeWarning: Data will be preloaded. preload=False or a string preload is not supported when the data is stored in the .set file\n",
            "  raw = mne.io.read_raw_eeglab(setItem)\n"
          ]
        },
        {
          "output_type": "stream",
          "name": "stdout",
          "text": [
            "EEG channel type selected for re-referencing\n",
            "Applying a custom ('EEG',) reference.\n",
            "Applying baseline correction (mode: mean)\n",
            "Filtering raw data in 1 contiguous segment\n",
            "Setting up band-stop filter from 49 - 51 Hz\n",
            "\n",
            "FIR filter parameters\n",
            "---------------------\n",
            "Designing a one-pass, zero-phase, non-causal bandstop filter:\n",
            "- Windowed time-domain design (firwin) method\n",
            "- Hamming window with 0.0194 passband ripple and 53 dB stopband attenuation\n",
            "- Lower passband edge: 49.38\n",
            "- Lower transition bandwidth: 0.50 Hz (-6 dB cutoff frequency: 49.12 Hz)\n",
            "- Upper passband edge: 50.62 Hz\n",
            "- Upper transition bandwidth: 0.50 Hz (-6 dB cutoff frequency: 50.88 Hz)\n",
            "- Filter length: 3301 samples (6.602 s)\n",
            "\n"
          ]
        },
        {
          "output_type": "stream",
          "name": "stderr",
          "text": [
            "[Parallel(n_jobs=1)]: Done  17 tasks      | elapsed:    0.3s\n"
          ]
        },
        {
          "output_type": "stream",
          "name": "stdout",
          "text": [
            "Fitting ICA to data using 62 channels (please be patient, this may take a while)\n",
            "Selecting by non-zero PCA components: 61 components\n",
            "Fitting ICA took 5.7s.\n",
            "Applying ICA to Raw instance\n",
            "    Transforming to ICA space (61 components)\n",
            "    Zeroing out 0 ICA components\n",
            "    Projecting back using 62 PCA components\n"
          ]
        },
        {
          "output_type": "stream",
          "name": "stderr",
          "text": [
            "\r 78%|███████▊  | 21/27 [12:31<02:11, 21.85s/it]<ipython-input-14-e06260a80db4>:15: RuntimeWarning: Data will be preloaded. preload=False or a string preload is not supported when the data is stored in the .set file\n",
            "  raw = mne.io.read_raw_eeglab(setItem)\n"
          ]
        },
        {
          "output_type": "stream",
          "name": "stdout",
          "text": [
            "EEG channel type selected for re-referencing\n",
            "Applying a custom ('EEG',) reference.\n",
            "Applying baseline correction (mode: mean)\n",
            "Filtering raw data in 1 contiguous segment\n",
            "Setting up band-stop filter from 49 - 51 Hz\n",
            "\n",
            "FIR filter parameters\n",
            "---------------------\n",
            "Designing a one-pass, zero-phase, non-causal bandstop filter:\n",
            "- Windowed time-domain design (firwin) method\n",
            "- Hamming window with 0.0194 passband ripple and 53 dB stopband attenuation\n",
            "- Lower passband edge: 49.38\n",
            "- Lower transition bandwidth: 0.50 Hz (-6 dB cutoff frequency: 49.12 Hz)\n",
            "- Upper passband edge: 50.62 Hz\n",
            "- Upper transition bandwidth: 0.50 Hz (-6 dB cutoff frequency: 50.88 Hz)\n",
            "- Filter length: 3301 samples (6.602 s)\n",
            "\n"
          ]
        },
        {
          "output_type": "stream",
          "name": "stderr",
          "text": [
            "[Parallel(n_jobs=1)]: Done  17 tasks      | elapsed:    0.2s\n"
          ]
        },
        {
          "output_type": "stream",
          "name": "stdout",
          "text": [
            "Fitting ICA to data using 62 channels (please be patient, this may take a while)\n",
            "Selecting by non-zero PCA components: 61 components\n",
            "Fitting ICA took 110.0s.\n",
            "Applying ICA to Raw instance\n",
            "    Transforming to ICA space (61 components)\n",
            "    Zeroing out 0 ICA components\n",
            "    Projecting back using 62 PCA components\n"
          ]
        },
        {
          "output_type": "stream",
          "name": "stderr",
          "text": [
            "\r 81%|████████▏ | 22/27 [14:25<04:07, 49.43s/it]<ipython-input-14-e06260a80db4>:15: RuntimeWarning: Data will be preloaded. preload=False or a string preload is not supported when the data is stored in the .set file\n",
            "  raw = mne.io.read_raw_eeglab(setItem)\n"
          ]
        },
        {
          "output_type": "stream",
          "name": "stdout",
          "text": [
            "EEG channel type selected for re-referencing\n",
            "Applying a custom ('EEG',) reference.\n",
            "Applying baseline correction (mode: mean)\n",
            "Filtering raw data in 1 contiguous segment\n",
            "Setting up band-stop filter from 49 - 51 Hz\n",
            "\n",
            "FIR filter parameters\n",
            "---------------------\n",
            "Designing a one-pass, zero-phase, non-causal bandstop filter:\n",
            "- Windowed time-domain design (firwin) method\n",
            "- Hamming window with 0.0194 passband ripple and 53 dB stopband attenuation\n",
            "- Lower passband edge: 49.38\n",
            "- Lower transition bandwidth: 0.50 Hz (-6 dB cutoff frequency: 49.12 Hz)\n",
            "- Upper passband edge: 50.62 Hz\n",
            "- Upper transition bandwidth: 0.50 Hz (-6 dB cutoff frequency: 50.88 Hz)\n",
            "- Filter length: 3301 samples (6.602 s)\n",
            "\n"
          ]
        },
        {
          "output_type": "stream",
          "name": "stderr",
          "text": [
            "[Parallel(n_jobs=1)]: Done  17 tasks      | elapsed:    0.2s\n"
          ]
        },
        {
          "output_type": "stream",
          "name": "stdout",
          "text": [
            "Fitting ICA to data using 62 channels (please be patient, this may take a while)\n",
            "Selecting by non-zero PCA components: 60 components\n"
          ]
        },
        {
          "output_type": "stream",
          "name": "stderr",
          "text": [
            "/usr/local/lib/python3.10/dist-packages/sklearn/decomposition/_fastica.py:123: ConvergenceWarning: FastICA did not converge. Consider increasing tolerance or the maximum number of iterations.\n",
            "  warnings.warn(\n"
          ]
        },
        {
          "output_type": "stream",
          "name": "stdout",
          "text": [
            "Fitting ICA took 131.8s.\n",
            "Applying ICA to Raw instance\n",
            "    Transforming to ICA space (60 components)\n",
            "    Zeroing out 0 ICA components\n",
            "    Projecting back using 62 PCA components\n"
          ]
        },
        {
          "output_type": "stream",
          "name": "stderr",
          "text": [
            "\r 85%|████████▌ | 23/27 [16:41<05:01, 75.40s/it]<ipython-input-14-e06260a80db4>:15: RuntimeWarning: Data will be preloaded. preload=False or a string preload is not supported when the data is stored in the .set file\n",
            "  raw = mne.io.read_raw_eeglab(setItem)\n"
          ]
        },
        {
          "output_type": "stream",
          "name": "stdout",
          "text": [
            "EEG channel type selected for re-referencing\n",
            "Applying a custom ('EEG',) reference.\n",
            "Applying baseline correction (mode: mean)\n",
            "Filtering raw data in 1 contiguous segment\n",
            "Setting up band-stop filter from 49 - 51 Hz\n",
            "\n",
            "FIR filter parameters\n",
            "---------------------\n",
            "Designing a one-pass, zero-phase, non-causal bandstop filter:\n",
            "- Windowed time-domain design (firwin) method\n",
            "- Hamming window with 0.0194 passband ripple and 53 dB stopband attenuation\n",
            "- Lower passband edge: 49.38\n",
            "- Lower transition bandwidth: 0.50 Hz (-6 dB cutoff frequency: 49.12 Hz)\n",
            "- Upper passband edge: 50.62 Hz\n",
            "- Upper transition bandwidth: 0.50 Hz (-6 dB cutoff frequency: 50.88 Hz)\n",
            "- Filter length: 3301 samples (6.602 s)\n",
            "\n"
          ]
        },
        {
          "output_type": "stream",
          "name": "stderr",
          "text": [
            "[Parallel(n_jobs=1)]: Done  17 tasks      | elapsed:    0.2s\n"
          ]
        },
        {
          "output_type": "stream",
          "name": "stdout",
          "text": [
            "Fitting ICA to data using 62 channels (please be patient, this may take a while)\n",
            "Selecting by non-zero PCA components: 60 components\n",
            "Fitting ICA took 105.0s.\n",
            "Applying ICA to Raw instance\n",
            "    Transforming to ICA space (60 components)\n",
            "    Zeroing out 0 ICA components\n",
            "    Projecting back using 62 PCA components\n"
          ]
        },
        {
          "output_type": "stream",
          "name": "stderr",
          "text": [
            "\r 89%|████████▉ | 24/27 [18:30<04:17, 85.70s/it]<ipython-input-14-e06260a80db4>:15: RuntimeWarning: Data will be preloaded. preload=False or a string preload is not supported when the data is stored in the .set file\n",
            "  raw = mne.io.read_raw_eeglab(setItem)\n"
          ]
        },
        {
          "output_type": "stream",
          "name": "stdout",
          "text": [
            "EEG channel type selected for re-referencing\n",
            "Applying a custom ('EEG',) reference.\n",
            "Applying baseline correction (mode: mean)\n",
            "Filtering raw data in 1 contiguous segment\n",
            "Setting up band-stop filter from 49 - 51 Hz\n",
            "\n",
            "FIR filter parameters\n",
            "---------------------\n",
            "Designing a one-pass, zero-phase, non-causal bandstop filter:\n",
            "- Windowed time-domain design (firwin) method\n",
            "- Hamming window with 0.0194 passband ripple and 53 dB stopband attenuation\n",
            "- Lower passband edge: 49.38\n",
            "- Lower transition bandwidth: 0.50 Hz (-6 dB cutoff frequency: 49.12 Hz)\n",
            "- Upper passband edge: 50.62 Hz\n",
            "- Upper transition bandwidth: 0.50 Hz (-6 dB cutoff frequency: 50.88 Hz)\n",
            "- Filter length: 3301 samples (6.602 s)\n",
            "\n"
          ]
        },
        {
          "output_type": "stream",
          "name": "stderr",
          "text": [
            "[Parallel(n_jobs=1)]: Done  17 tasks      | elapsed:    0.2s\n"
          ]
        },
        {
          "output_type": "stream",
          "name": "stdout",
          "text": [
            "Fitting ICA to data using 62 channels (please be patient, this may take a while)\n",
            "Selecting by non-zero PCA components: 61 components\n",
            "Fitting ICA took 21.4s.\n",
            "Applying ICA to Raw instance\n",
            "    Transforming to ICA space (61 components)\n",
            "    Zeroing out 0 ICA components\n",
            "    Projecting back using 62 PCA components\n"
          ]
        },
        {
          "output_type": "stream",
          "name": "stderr",
          "text": [
            "\r 93%|█████████▎| 25/27 [18:56<02:15, 67.73s/it]<ipython-input-14-e06260a80db4>:15: RuntimeWarning: Data will be preloaded. preload=False or a string preload is not supported when the data is stored in the .set file\n",
            "  raw = mne.io.read_raw_eeglab(setItem)\n"
          ]
        },
        {
          "output_type": "stream",
          "name": "stdout",
          "text": [
            "EEG channel type selected for re-referencing\n",
            "Applying a custom ('EEG',) reference.\n",
            "Applying baseline correction (mode: mean)\n",
            "Filtering raw data in 1 contiguous segment\n",
            "Setting up band-stop filter from 49 - 51 Hz\n",
            "\n",
            "FIR filter parameters\n",
            "---------------------\n",
            "Designing a one-pass, zero-phase, non-causal bandstop filter:\n",
            "- Windowed time-domain design (firwin) method\n",
            "- Hamming window with 0.0194 passband ripple and 53 dB stopband attenuation\n",
            "- Lower passband edge: 49.38\n",
            "- Lower transition bandwidth: 0.50 Hz (-6 dB cutoff frequency: 49.12 Hz)\n",
            "- Upper passband edge: 50.62 Hz\n",
            "- Upper transition bandwidth: 0.50 Hz (-6 dB cutoff frequency: 50.88 Hz)\n",
            "- Filter length: 3301 samples (6.602 s)\n",
            "\n"
          ]
        },
        {
          "output_type": "stream",
          "name": "stderr",
          "text": [
            "[Parallel(n_jobs=1)]: Done  17 tasks      | elapsed:    0.3s\n"
          ]
        },
        {
          "output_type": "stream",
          "name": "stdout",
          "text": [
            "Fitting ICA to data using 62 channels (please be patient, this may take a while)\n",
            "Selecting by non-zero PCA components: 61 components\n",
            "Fitting ICA took 110.9s.\n",
            "Applying ICA to Raw instance\n",
            "    Transforming to ICA space (61 components)\n",
            "    Zeroing out 0 ICA components\n",
            "    Projecting back using 62 PCA components\n"
          ]
        },
        {
          "output_type": "stream",
          "name": "stderr",
          "text": [
            "\r 96%|█████████▋| 26/27 [20:53<01:22, 82.48s/it]<ipython-input-14-e06260a80db4>:15: RuntimeWarning: Data will be preloaded. preload=False or a string preload is not supported when the data is stored in the .set file\n",
            "  raw = mne.io.read_raw_eeglab(setItem)\n"
          ]
        },
        {
          "output_type": "stream",
          "name": "stdout",
          "text": [
            "EEG channel type selected for re-referencing\n",
            "Applying a custom ('EEG',) reference.\n",
            "Applying baseline correction (mode: mean)\n",
            "Filtering raw data in 1 contiguous segment\n",
            "Setting up band-stop filter from 49 - 51 Hz\n",
            "\n",
            "FIR filter parameters\n",
            "---------------------\n",
            "Designing a one-pass, zero-phase, non-causal bandstop filter:\n",
            "- Windowed time-domain design (firwin) method\n",
            "- Hamming window with 0.0194 passband ripple and 53 dB stopband attenuation\n",
            "- Lower passband edge: 49.38\n",
            "- Lower transition bandwidth: 0.50 Hz (-6 dB cutoff frequency: 49.12 Hz)\n",
            "- Upper passband edge: 50.62 Hz\n",
            "- Upper transition bandwidth: 0.50 Hz (-6 dB cutoff frequency: 50.88 Hz)\n",
            "- Filter length: 3301 samples (6.602 s)\n",
            "\n"
          ]
        },
        {
          "output_type": "stream",
          "name": "stderr",
          "text": [
            "[Parallel(n_jobs=1)]: Done  17 tasks      | elapsed:    0.2s\n"
          ]
        },
        {
          "output_type": "stream",
          "name": "stdout",
          "text": [
            "Fitting ICA to data using 62 channels (please be patient, this may take a while)\n",
            "Selecting by non-zero PCA components: 61 components\n",
            "Fitting ICA took 83.0s.\n",
            "Applying ICA to Raw instance\n",
            "    Transforming to ICA space (61 components)\n",
            "    Zeroing out 0 ICA components\n",
            "    Projecting back using 62 PCA components\n"
          ]
        },
        {
          "output_type": "stream",
          "name": "stderr",
          "text": [
            "100%|██████████| 27/27 [22:21<00:00, 49.68s/it]\n"
          ]
        }
      ]
    },
    {
      "cell_type": "code",
      "source": [
        "train_x, test_x,train_y, test_y  = train_test_split(X, Y, test_size=0.2, random_state=21,shuffle=True)"
      ],
      "metadata": {
        "id": "Q1VGgSWyHvWG"
      },
      "execution_count": null,
      "outputs": []
    },
    {
      "cell_type": "code",
      "source": [
        "a,b,c = 0,0,0\n",
        "for i in train_y:\n",
        "  if i==0:\n",
        "    a = a+1\n",
        "  elif i==1:\n",
        "    b=b+1\n",
        "  elif i==2:\n",
        "    c=c+1\n",
        "print(a,b,c)"
      ],
      "metadata": {
        "colab": {
          "base_uri": "https://localhost:8080/"
        },
        "id": "-JYEfxBnr000",
        "outputId": "2a3c676d-f661-4daa-9c34-37f953245883"
      },
      "execution_count": null,
      "outputs": [
        {
          "output_type": "stream",
          "name": "stdout",
          "text": [
            "1696 1656 1659\n"
          ]
        }
      ]
    },
    {
      "cell_type": "code",
      "source": [
        "\n",
        "# select training and test data\n",
        "#train_x, test_x = X[train_index], X[test_index]\n",
        "#train_y, test_y = Y[train_index], Y[test_index]\n",
        "# model training\n",
        "model, scaler = train_model(train_x, train_y)\n",
        "# standardize test data\n",
        "for i in range(test_x.shape[0]):\n",
        "    test_x[i] = scaler.transform(test_x[i])\n",
        "# prepare shape of data\n",
        "train_x = np.expand_dims(train_x, axis=-1)\n",
        "test_x = np.expand_dims(test_x, axis=-1)\n"
      ],
      "metadata": {
        "colab": {
          "base_uri": "https://localhost:8080/"
        },
        "id": "JPxItcIVq_HB",
        "outputId": "fed7d407-e857-4027-b12e-23495d1920d4"
      },
      "execution_count": null,
      "outputs": [
        {
          "output_type": "stream",
          "name": "stdout",
          "text": [
            "Model: \"model\"\n",
            "_________________________________________________________________\n",
            " Layer (type)                Output Shape              Param #   \n",
            "=================================================================\n",
            " inp (InputLayer)            [(None, 1250, 62, 1)]     0         \n",
            "                                                                 \n",
            " conv2_1 (Conv2D)            (None, 416, 20, 64)       1664      \n",
            "                                                                 \n",
            " conv2_2 (Conv2D)            (None, 207, 9, 64)        36928     \n",
            "                                                                 \n",
            " reshape (Reshape)           (None, 207, 576)          0         \n",
            "                                                                 \n",
            " tcn1 (TCN)                  (None, 207, 50)           153050    \n",
            "                                                                 \n",
            " flt (Flatten)               (None, 10350)             0         \n",
            "                                                                 \n",
            " drp1 (Dropout)              (None, 10350)             0         \n",
            "                                                                 \n",
            " fc1 (Dense)                 (None, 512)               5299712   \n",
            "                                                                 \n",
            " output (Dense)              (None, 3)                 1539      \n",
            "                                                                 \n",
            "=================================================================\n",
            "Total params: 5,492,893\n",
            "Trainable params: 5,492,893\n",
            "Non-trainable params: 0\n",
            "_________________________________________________________________\n"
          ]
        }
      ]
    },
    {
      "cell_type": "code",
      "source": [
        "y_pred = model.predict(test_x)\n",
        "y_pred_classes = np.argmax(y_pred, axis=-1)\n",
        "\n",
        "# Calculate confusion matrix\n",
        "confusion_mtx = confusion_matrix(test_y, y_pred_classes)\n",
        "\n",
        "# Display the confusion matrix\n",
        "plt.figure(figsize=(8, 6))\n",
        "sns.heatmap(confusion_mtx, annot=True, fmt='d', cmap='Blues')\n",
        "plt.xlabel('Predicted Labels')\n",
        "plt.ylabel('True Labels')\n",
        "plt.title('Confusion Matrix')\n",
        "plt.show()\n",
        "\n",
        "print(classification_report(test_y, y_pred_classes))\n"
      ],
      "metadata": {
        "colab": {
          "base_uri": "https://localhost:8080/",
          "height": 765
        },
        "id": "iRF4zcqZ6a30",
        "outputId": "08681baa-93ad-416d-8d17-e3dfe920b806"
      },
      "execution_count": null,
      "outputs": [
        {
          "output_type": "stream",
          "name": "stdout",
          "text": [
            "40/40 [==============================] - 12s 284ms/step\n"
          ]
        },
        {
          "output_type": "display_data",
          "data": {
            "text/plain": [
              "<Figure size 800x600 with 2 Axes>"
            ],
            "image/png": "[encoded data removed]"
          },
          "metadata": {}
        },
        {
          "output_type": "stream",
          "name": "stdout",
          "text": [
            "              precision    recall  f1-score   support\n",
            "\n",
            "           0       0.96      1.00      0.98       392\n",
            "           1       1.00      0.98      0.99       432\n",
            "           2       1.00      0.98      0.99       429\n",
            "\n",
            "    accuracy                           0.99      1253\n",
            "   macro avg       0.99      0.99      0.99      1253\n",
            "weighted avg       0.99      0.99      0.99      1253\n",
            "\n"
          ]
        }
      ]
    },
    {
      "cell_type": "code",
      "source": [
        "%cd /content/drive/MyDrive/close_eyes"
      ],
      "metadata": {
        "colab": {
          "base_uri": "https://localhost:8080/"
        },
        "id": "Utyw28wu6e49",
        "outputId": "e2719379-9bab-4e71-daeb-2df067eea237"
      },
      "execution_count": null,
      "outputs": [
        {
          "output_type": "stream",
          "name": "stdout",
          "text": [
            "/content/drive/MyDrive/close_eyes\n"
          ]
        }
      ]
    },
    {
      "cell_type": "code",
      "source": [
        "X,Y = preprocess_data(itemNums, labelPath, OVERLAP_RATE, WINDOW_TIME)"
      ],
      "metadata": {
        "colab": {
          "base_uri": "https://localhost:8080/",
          "height": 181
        },
        "id": "g1KSZYDP6hba",
        "outputId": "03e34682-1344-46b9-c932-fdd88150a5ea"
      },
      "execution_count": null,
      "outputs": [
        {
          "output_type": "error",
          "ename": "NameError",
          "evalue": "ignored",
          "traceback": [
            "\u001b[0;31m---------------------------------------------------------------------------\u001b[0m",
            "\u001b[0;31mNameError\u001b[0m                                 Traceback (most recent call last)",
            "\u001b[0;32m<ipython-input-1-aabc7c0edc69>\u001b[0m in \u001b[0;36m<cell line: 1>\u001b[0;34m()\u001b[0m\n\u001b[0;32m----> 1\u001b[0;31m \u001b[0mX\u001b[0m\u001b[0;34m,\u001b[0m\u001b[0mY\u001b[0m \u001b[0;34m=\u001b[0m \u001b[0mpreprocess_data\u001b[0m\u001b[0;34m(\u001b[0m\u001b[0mitemNums\u001b[0m\u001b[0;34m,\u001b[0m \u001b[0mlabelPath\u001b[0m\u001b[0;34m,\u001b[0m \u001b[0mOVERLAP_RATE\u001b[0m\u001b[0;34m,\u001b[0m \u001b[0mWINDOW_TIME\u001b[0m\u001b[0;34m)\u001b[0m\u001b[0;34m\u001b[0m\u001b[0;34m\u001b[0m\u001b[0m\n\u001b[0m",
            "\u001b[0;31mNameError\u001b[0m: name 'preprocess_data' is not defined"
          ]
        }
      ]
    },
    {
      "cell_type": "code",
      "source": [
        "train_x, test_x,train_y, test_y  = train_test_split(X, Y, test_size=0.2, random_state=21,shuffle=True)\n",
        "# select training and test data"
      ],
      "metadata": {
        "id": "gMq_VdeyCbNB"
      },
      "execution_count": null,
      "outputs": []
    },
    {
      "cell_type": "code",
      "source": [
        "a,b,c = 0,0,0\n",
        "for i in train_y:\n",
        "  if i==0:\n",
        "    a = a+1\n",
        "  elif i==1:\n",
        "    b=b+1\n",
        "  elif i==2:\n",
        "    c=c+1\n",
        "print(a,b,c)"
      ],
      "metadata": {
        "id": "GIAojlUNF9qo"
      },
      "execution_count": null,
      "outputs": []
    },
    {
      "cell_type": "code",
      "source": [
        "#train_x, test_x = X[train_index], X[test_index]\n",
        "#train_y, test_y = Y[train_index], Y[test_index]\n",
        "# model training\n",
        "model, scaler = train_model(train_x, train_y)\n",
        "# standardize test data\n",
        "for i in range(test_x.shape[0]):\n",
        "    test_x[i] = scaler.transform(test_x[i])\n",
        "# prepare shape of data\n",
        "train_x = np.expand_dims(train_x, axis=-1)\n",
        "test_x = np.expand_dims(test_x, axis=-1)\n",
        "\n",
        "# Evaluate the model\n",
        "y_pred = model.predict(test_x)\n",
        "y_pred_classes = np.argmax(y_pred, axis=-1)\n",
        "\n",
        "# Calculate confusion matrix\n",
        "confusion_mtx = confusion_matrix(test_y, y_pred_classes)\n",
        "\n",
        "# Display the confusion matrix\n",
        "plt.figure(figsize=(8, 6))\n",
        "sns.heatmap(confusion_mtx, annot=True, fmt='d', cmap='Blues')\n",
        "plt.xlabel('Predicted Labels')\n",
        "plt.ylabel('True Labels')\n",
        "plt.title('Confusion Matrix')\n",
        "plt.show()\n",
        "\n",
        "print(classification_report(test_y, y_pred_classes))"
      ],
      "metadata": {
        "id": "_F3aFdu6jWsy"
      },
      "execution_count": null,
      "outputs": []
    },
    {
      "cell_type": "markdown",
      "metadata": {
        "id": "V842dubI_QJ8"
      },
      "source": []
    }
  ],
  "metadata": {
    "colab": {
      "provenance": []
    },
    "kernelspec": {
      "display_name": "Python 3",
      "name": "python3"
    },
    "language_info": {
      "name": "python"
    },
    "accelerator": "TPU"
  },
  "nbformat": 4,
  "nbformat_minor": 0
}